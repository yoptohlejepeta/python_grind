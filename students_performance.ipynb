{
 "cells": [
  {
   "cell_type": "code",
   "execution_count": 1,
   "metadata": {},
   "outputs": [
    {
     "ename": "ModuleNotFoundError",
     "evalue": "No module named 'pandas'",
     "output_type": "error",
     "traceback": [
      "\u001b[1;31m---------------------------------------------------------------------------\u001b[0m",
      "\u001b[1;31mModuleNotFoundError\u001b[0m                       Traceback (most recent call last)",
      "\u001b[1;32mc:\\python_grind\\students_performance.ipynb Cell 1\u001b[0m in \u001b[0;36m<cell line: 1>\u001b[1;34m()\u001b[0m\n\u001b[1;32m----> <a href='vscode-notebook-cell:/c%3A/python_grind/students_performance.ipynb#W0sZmlsZQ%3D%3D?line=0'>1</a>\u001b[0m \u001b[39mimport\u001b[39;00m \u001b[39mpandas\u001b[39;00m \u001b[39mas\u001b[39;00m \u001b[39mpd\u001b[39;00m\n\u001b[0;32m      <a href='vscode-notebook-cell:/c%3A/python_grind/students_performance.ipynb#W0sZmlsZQ%3D%3D?line=1'>2</a>\u001b[0m \u001b[39mimport\u001b[39;00m \u001b[39mplotly\u001b[39;00m\u001b[39m.\u001b[39;00m\u001b[39mexpress\u001b[39;00m \u001b[39mas\u001b[39;00m \u001b[39mpx\u001b[39;00m \n\u001b[0;32m      <a href='vscode-notebook-cell:/c%3A/python_grind/students_performance.ipynb#W0sZmlsZQ%3D%3D?line=3'>4</a>\u001b[0m df \u001b[39m=\u001b[39m pd\u001b[39m.\u001b[39mread_csv(\u001b[39m'\u001b[39m\u001b[39mStudentsPerformance.csv\u001b[39m\u001b[39m'\u001b[39m)\n",
      "\u001b[1;31mModuleNotFoundError\u001b[0m: No module named 'pandas'"
     ]
    }
   ],
   "source": [
    "import pandas as pd\n",
    "import plotly.express as px \n",
    "\n",
    "df = pd.read_csv('StudentsPerformance.csv')\n",
    "print(df.head())"
   ]
  },
  {
   "cell_type": "markdown",
   "metadata": {},
   "source": [
    "### Overall score"
   ]
  },
  {
   "cell_type": "code",
   "execution_count": null,
   "metadata": {},
   "outputs": [
    {
     "name": "stdout",
     "output_type": "stream",
     "text": [
      "   gender race/ethnicity parental level of education         lunch  \\\n",
      "0  female        group B           bachelor's degree      standard   \n",
      "1  female        group C                some college      standard   \n",
      "2  female        group B             master's degree      standard   \n",
      "3    male        group A          associate's degree  free/reduced   \n",
      "4    male        group C                some college      standard   \n",
      "\n",
      "  test preparation course  math score  reading score  writing score  \\\n",
      "0                    none          72             72             74   \n",
      "1               completed          69             90             88   \n",
      "2                    none          90             95             93   \n",
      "3                    none          47             57             44   \n",
      "4                    none          76             78             75   \n",
      "\n",
      "   overall_score  \n",
      "0      72.666667  \n",
      "1      82.333333  \n",
      "2      92.666667  \n",
      "3      49.333333  \n",
      "4      76.333333  \n"
     ]
    }
   ],
   "source": [
    "# df['overall score'] = df.iloc[:, 5:8].mean(axis = 1)\n",
    "df['overall_score'] = (df['math score'] + df['reading score'] + df['writing score']) / 3\n",
    "# df = df.drop('overall score', axis=1)\n",
    "\n",
    "print(df.head())"
   ]
  },
  {
   "cell_type": "markdown",
   "metadata": {},
   "source": [
    "### Porovnávání celkového hodnocení mužů a žen"
   ]
  },
  {
   "cell_type": "code",
   "execution_count": null,
   "metadata": {},
   "outputs": [
    {
     "data": {
      "text/plain": [
       "<AxesSubplot: ylabel='Frequency'>"
      ]
     },
     "execution_count": 5,
     "metadata": {},
     "output_type": "execute_result"
    },
    {
     "data": {
      "image/png": "[encoded data removed]",
      "text/plain": [
       "<Figure size 640x480 with 1 Axes>"
      ]
     },
     "metadata": {},
     "output_type": "display_data"
    }
   ],
   "source": [
    "df['overall score'].plot.hist(bins = 30)"
   ]
  },
  {
   "cell_type": "markdown",
   "metadata": {},
   "source": [
    "Dohromady"
   ]
  },
  {
   "cell_type": "code",
   "execution_count": null,
   "metadata": {},
   "outputs": [
    {
     "data": {
      "application/vnd.plotly.v1+json": {
       "config": {
        "plotlyServerURL": "https://plot.ly"
       },
       "data": [
        {
         "alignmentgroup": "True",
         "bingroup": "x",
         "hovertemplate": "gender=female<br>overall score (male + female)=%{x}<br>count=%{y}<extra></extra>",
         "legendgroup": "female",
         "marker": {
          "color": "#636efa",
          "opacity": 0.5,
          "pattern": {
           "shape": ""
          }
         },
         "name": "female",
         "nbinsx": 30,
         "offsetgroup": "female",
         "orientation": "v",
         "showlegend": true,
         "type": "histogram",
         "x": [
          72.66666666666667,
          82.33333333333333,
          92.66666666666667,
          77.33333333333333,
          91.66666666666667,
          49.333333333333336,
          73,
          53.666666666666664,
          74,
          26,
          57.666666666666664,
          70,
          71.66666666666667,
          70.33333333333333,
          69,
          72.33333333333333,
          63,
          64.33333333333333,
          79.33333333333333,
          57.666666666666664,
          84.33333333333333,
          66.33333333333333,
          58.666666666666664,
          53.333333333333336,
          60.666666666666664,
          71,
          69,
          80.66666666666667,
          39,
          84.33333333333333,
          9,
          73.33333333333333,
          58.666666666666664,
          68.66666666666667,
          53.333333333333336,
          64.66666666666667,
          46.666666666666664,
          69,
          66,
          48.666666666666664,
          78.33333333333333,
          82.33333333333333,
          72,
          65,
          80.33333333333333,
          70.33333333333333,
          85.66666666666667,
          68.33333333333333,
          62.333333333333336,
          64.66666666666667,
          88.33333333333333,
          65.66666666666667,
          95.66666666666667,
          66,
          68.66666666666667,
          88,
          54.333333333333336,
          99.66666666666667,
          80.66666666666667,
          79.66666666666667,
          58.333333333333336,
          63,
          86.66666666666667,
          91.33333333333333,
          89.33333333333333,
          50.333333333333336,
          80,
          64,
          73,
          61.666666666666664,
          50.333333333333336,
          31.333333333333332,
          74.66666666666667,
          65,
          82.33333333333333,
          72.66666666666667,
          78,
          82.66666666666667,
          88,
          98.66666666666667,
          70.66666666666667,
          76.33333333333333,
          70.66666666666667,
          82,
          66.66666666666667,
          49.333333333333336,
          86.33333333333333,
          52.666666666666664,
          75,
          61.333333333333336,
          99,
          58.666666666666664,
          49,
          68,
          84,
          66.66666666666667,
          64,
          79.33333333333333,
          51,
          77.66666666666667,
          79,
          74.33333333333333,
          64.66666666666667,
          77,
          61.666666666666664,
          54.666666666666664,
          85.66666666666667,
          38.333333333333336,
          66,
          60.666666666666664,
          63.666666666666664,
          51.666666666666664,
          71.66666666666667,
          92.33333333333333,
          78.66666666666667,
          66,
          82,
          54.333333333333336,
          65.33333333333333,
          63.666666666666664,
          79,
          66.66666666666667,
          68.33333333333333,
          68.33333333333333,
          74.33333333333333,
          75.66666666666667,
          73.33333333333333,
          48.333333333333336,
          94,
          73,
          72.66666666666667,
          91.66666666666667,
          72.33333333333333,
          52.666666666666664,
          68.66666666666667,
          90,
          65.66666666666667,
          77,
          78.66666666666667,
          75.33333333333333,
          43,
          79.33333333333333,
          71,
          77.33333333333333,
          77.33333333333333,
          63.666666666666664,
          52.666666666666664,
          76.33333333333333,
          68,
          66,
          83.33333333333333,
          61.333333333333336,
          76.66666666666667,
          80,
          77.33333333333333,
          49.666666666666664,
          43.333333333333336,
          88.66666666666667,
          49,
          90.33333333333333,
          65,
          29.666666666666668,
          50,
          65.66666666666667,
          73,
          75.66666666666667,
          88.66666666666667,
          62,
          73.66666666666667,
          53.666666666666664,
          66.66666666666667,
          67.66666666666667,
          59,
          86.33333333333333,
          59.666666666666664,
          56,
          31,
          55.333333333333336,
          80.66666666666667,
          62.666666666666664,
          91.66666666666667,
          67.33333333333333,
          84,
          93.33333333333333,
          77,
          83,
          44,
          41.333333333333336,
          72.66666666666667,
          69,
          67.33333333333333,
          63.333333333333336,
          74,
          72,
          60,
          89.66666666666667,
          60,
          56.333333333333336,
          95.66666666666667,
          58.333333333333336,
          68,
          79.66666666666667,
          55,
          71.66666666666667,
          67.33333333333333,
          89.33333333333333,
          59.666666666666664,
          57.333333333333336,
          74.66666666666667,
          63.666666666666664,
          67.66666666666667,
          52,
          75.66666666666667,
          79.66666666666667,
          67,
          77.33333333333333,
          72.66666666666667,
          78,
          96.33333333333333,
          72,
          58.666666666666664,
          85.66666666666667,
          100,
          72.33333333333333,
          86,
          87.33333333333333,
          31.666666666666668,
          83.33333333333333,
          86,
          68.66666666666667,
          79.33333333333333,
          62.333333333333336,
          90.33333333333333,
          76.66666666666667,
          63,
          55.666666666666664,
          51.666666666666664,
          69.66666666666667,
          75.33333333333333,
          66,
          85.33333333333333,
          86.33333333333333,
          62,
          51.333333333333336,
          71,
          67.66666666666667,
          78.33333333333333,
          91,
          92,
          51,
          81.33333333333333,
          88.33333333333333,
          59,
          89.33333333333333,
          82.66666666666667,
          82.33333333333333,
          71,
          74,
          74.66666666666667,
          87,
          44,
          39,
          68.66666666666667,
          69.33333333333333,
          51.333333333333336,
          87,
          77.33333333333333,
          59.666666666666664,
          79,
          88.66666666666667,
          64.33333333333333,
          96.33333333333333,
          64.33333333333333,
          46,
          34.666666666666664,
          68.66666666666667,
          64.33333333333333,
          76,
          70.33333333333333,
          74.33333333333333,
          97.33333333333333,
          70,
          57,
          60,
          75.33333333333333,
          87,
          54,
          60.666666666666664,
          91.33333333333333,
          78.66666666666667,
          71.33333333333333,
          76,
          74.33333333333333,
          72.33333333333333,
          67,
          56.333333333333336,
          61,
          59.666666666666664,
          74.33333333333333,
          97,
          69,
          73,
          76,
          59,
          29.333333333333332,
          78,
          83.66666666666667,
          50.666666666666664,
          62.333333333333336,
          62,
          61,
          72,
          89.33333333333333,
          66.66666666666667,
          40,
          50,
          60.333333333333336,
          50,
          73.66666666666667,
          82.66666666666667,
          76,
          86.66666666666667,
          74.33333333333333,
          84,
          77.33333333333333,
          77.66666666666667,
          75.66666666666667,
          64.66666666666667,
          64.66666666666667,
          52.666666666666664,
          76.33333333333333,
          74.66666666666667,
          89.66666666666667,
          69.66666666666667,
          77,
          65.33333333333333,
          53.666666666666664,
          65,
          67,
          56.666666666666664,
          69,
          83,
          70,
          74.33333333333333,
          77.66666666666667,
          74.66666666666667,
          60,
          75.66666666666667,
          76,
          71,
          37.666666666666664,
          97.66666666666667,
          51.666666666666664,
          75.66666666666667,
          73.66666666666667,
          75.66666666666667,
          56,
          84.66666666666667,
          82.33333333333333,
          67,
          71.33333333333333,
          80.66666666666667,
          65.33333333333333,
          64.66666666666667,
          62,
          53.666666666666664,
          83.33333333333333,
          99,
          68,
          85.66666666666667,
          97,
          75.33333333333333,
          68,
          84,
          72.33333333333333,
          83,
          75,
          90,
          56,
          64,
          50,
          82.33333333333333,
          68,
          56.333333333333336,
          84,
          90.33333333333333,
          58.666666666666664,
          63,
          53.333333333333336,
          62.333333333333336,
          72.66666666666667,
          70,
          71.33333333333333,
          63.666666666666664,
          73,
          54,
          69.33333333333333,
          40.666666666666664,
          77.66666666666667,
          53,
          83.66666666666667,
          81,
          57.666666666666664,
          42.333333333333336,
          76,
          29.666666666666668,
          59.333333333333336,
          56.666666666666664,
          65.33333333333333,
          48.333333333333336,
          66,
          78.33333333333333,
          54.666666666666664,
          92,
          84.66666666666667,
          75.66666666666667,
          71,
          42,
          61.666666666666664,
          78.33333333333333,
          56,
          66.66666666666667,
          85.33333333333333,
          89,
          87,
          80,
          52.666666666666664,
          64.66666666666667,
          70,
          78.66666666666667,
          59.333333333333336,
          83,
          82.66666666666667,
          66,
          78.66666666666667,
          72,
          45.666666666666664,
          34.333333333333336,
          56.333333333333336,
          66.33333333333333,
          64,
          88.33333333333333,
          96.66666666666667,
          75,
          56,
          84.66666666666667,
          74,
          72.66666666666667,
          55.333333333333336,
          70.33333333333333,
          71.33333333333333,
          70.33333333333333,
          69.33333333333333,
          52,
          72.66666666666667,
          96,
          69.33333333333333,
          87.33333333333333,
          87.33333333333333,
          63.333333333333336,
          63.333333333333336,
          34.666666666666664,
          73.33333333333333,
          75,
          75,
          41,
          97.66666666666667,
          78.33333333333333,
          84.66666666666667,
          71.33333333333333,
          78.33333333333333,
          59.666666666666664,
          58.333333333333336,
          54,
          68,
          52.333333333333336,
          71.33333333333333,
          44.666666666666664,
          61.333333333333336,
          65.66666666666667,
          51.666666666666664,
          57.333333333333336,
          88.33333333333333,
          62.333333333333336,
          57.666666666666664,
          55.666666666666664,
          68.33333333333333,
          78.33333333333333,
          73.33333333333333,
          66.66666666666667,
          97.33333333333333,
          55.666666666666664,
          59.333333333333336,
          51.666666666666664,
          100,
          72,
          68,
          70.33333333333333,
          79.66666666666667,
          96.33333333333333,
          54.333333333333336,
          58.333333333333336,
          61.333333333333336,
          74.33333333333333,
          93.33333333333333,
          18.333333333333332,
          85.33333333333333,
          77,
          50,
          44.666666666666664,
          78.66666666666667,
          75,
          69,
          69.33333333333333,
          94,
          65,
          74.33333333333333,
          83
         ],
         "xaxis": "x",
         "yaxis": "y"
        },
        {
         "alignmentgroup": "True",
         "bingroup": "x",
         "hovertemplate": "gender=male<br>overall score (male + female)=%{x}<br>count=%{y}<extra></extra>",
         "legendgroup": "male",
         "marker": {
          "color": "#EF553B",
          "opacity": 0.5,
          "pattern": {
           "shape": ""
          }
         },
         "name": "male",
         "nbinsx": 30,
         "offsetgroup": "male",
         "orientation": "v",
         "showlegend": true,
         "type": "histogram",
         "x": [
          49.333333333333336,
          76.33333333333333,
          40.666666666666664,
          65,
          54.666666666666664,
          45,
          73.33333333333333,
          87.66666666666667,
          44.666666666666664,
          66,
          50.333333333333336,
          75,
          73,
          59.333333333333336,
          68.33333333333333,
          40,
          88.66666666666667,
          80.33333333333333,
          56.666666666666664,
          56.666666666666664,
          63.333333333333336,
          58.666666666666664,
          82.66666666666667,
          52,
          71.33333333333333,
          46.333333333333336,
          80.33333333333333,
          52,
          58.333333333333336,
          75,
          37.333333333333336,
          59.333333333333336,
          64,
          39.666666666666664,
          58.333333333333336,
          60.333333333333336,
          58,
          46.333333333333336,
          41,
          26,
          79.66666666666667,
          46.333333333333336,
          50.333333333333336,
          66.33333333333333,
          38.333333333333336,
          32.333333333333336,
          73.66666666666667,
          46,
          80.33333333333333,
          64.33333333333333,
          71,
          72,
          50.333333333333336,
          91.33333333333333,
          64.33333333333333,
          55.333333333333336,
          51.333333333333336,
          78.33333333333333,
          90.66666666666667,
          58.666666666666664,
          78.66666666666667,
          69,
          72,
          79.33333333333333,
          85,
          43.333333333333336,
          77,
          76,
          53.666666666666664,
          48.666666666666664,
          60.333333333333336,
          67,
          49,
          79.66666666666667,
          82.33333333333333,
          69,
          97.66666666666667,
          66,
          70.66666666666667,
          50,
          63.333333333333336,
          60,
          64,
          78,
          51.333333333333336,
          51.333333333333336,
          51.666666666666664,
          73,
          86.66666666666667,
          68.33333333333333,
          48.666666666666664,
          65.66666666666667,
          73.66666666666667,
          65.33333333333333,
          48.333333333333336,
          79.33333333333333,
          67,
          56,
          64.33333333333333,
          54,
          71.66666666666667,
          47.333333333333336,
          74.33333333333333,
          68.66666666666667,
          79,
          79.33333333333333,
          30,
          55.666666666666664,
          86.33333333333333,
          80.66666666666667,
          71,
          57.666666666666664,
          81.66666666666667,
          80.33333333333333,
          53.666666666666664,
          68,
          68.66666666666667,
          43.666666666666664,
          85.66666666666667,
          83,
          77.33333333333333,
          65.33333333333333,
          52.333333333333336,
          81.33333333333333,
          69,
          51,
          72.66666666666667,
          77.33333333333333,
          79.66666666666667,
          60.333333333333336,
          48.333333333333336,
          77.33333333333333,
          52.666666666666664,
          77.33333333333333,
          78.66666666666667,
          72.33333333333333,
          47.333333333333336,
          64.33333333333333,
          49.666666666666664,
          83,
          78,
          62,
          49,
          46.333333333333336,
          81.66666666666667,
          89,
          79.66666666666667,
          76.66666666666667,
          71.33333333333333,
          76.33333333333333,
          60,
          78.33333333333333,
          63,
          43.333333333333336,
          71,
          45.333333333333336,
          84,
          80,
          54,
          73.33333333333333,
          68.33333333333333,
          89,
          49,
          61,
          65.33333333333333,
          67.33333333333333,
          77.66666666666667,
          67.66666666666667,
          61.333333333333336,
          23.333333333333332,
          78,
          64,
          39.666666666666664,
          57,
          83,
          71.66666666666667,
          47.666666666666664,
          57,
          68.66666666666667,
          73,
          60,
          71.66666666666667,
          79,
          58.333333333333336,
          61.666666666666664,
          60.666666666666664,
          82.33333333333333,
          59,
          55.666666666666664,
          60,
          62.666666666666664,
          77.33333333333333,
          73.33333333333333,
          43.333333333333336,
          64,
          94,
          77,
          72.66666666666667,
          66.33333333333333,
          70,
          55.666666666666664,
          44.666666666666664,
          64.66666666666667,
          57.666666666666664,
          46.333333333333336,
          64.33333333333333,
          85.33333333333333,
          81.66666666666667,
          65.66666666666667,
          65.66666666666667,
          75.33333333333333,
          71,
          71.33333333333333,
          63,
          55.666666666666664,
          38,
          85,
          68.33333333333333,
          59,
          61.666666666666664,
          63,
          57.333333333333336,
          68.33333333333333,
          50.333333333333336,
          69,
          71.33333333333333,
          59,
          86.33333333333333,
          78,
          65,
          82.33333333333333,
          45,
          75.33333333333333,
          57.333333333333336,
          46.666666666666664,
          51.666666666666664,
          68.33333333333333,
          55.333333333333336,
          51,
          65,
          68,
          80.33333333333333,
          68,
          73.33333333333333,
          71.33333333333333,
          70.66666666666667,
          65.66666666666667,
          52.333333333333336,
          71.66666666666667,
          54.666666666666664,
          58,
          81,
          66,
          73,
          59.333333333333336,
          68,
          56,
          78,
          73.33333333333333,
          52.333333333333336,
          54.333333333333336,
          57.333333333333336,
          61.333333333333336,
          54.333333333333336,
          51.333333333333336,
          62.333333333333336,
          59,
          60.333333333333336,
          70,
          56.333333333333336,
          74,
          91.66666666666667,
          70.66666666666667,
          80.33333333333333,
          80.33333333333333,
          67.66666666666667,
          73.33333333333333,
          73.33333333333333,
          88.33333333333333,
          67.66666666666667,
          46,
          64.66666666666667,
          67,
          92.66666666666667,
          48.333333333333336,
          45.333333333333336,
          52.666666666666664,
          67.66666666666667,
          72,
          93,
          49.333333333333336,
          54.666666666666664,
          56.333333333333336,
          61,
          66.66666666666667,
          23,
          51.666666666666664,
          56,
          87.66666666666667,
          69.66666666666667,
          64,
          91.66666666666667,
          83,
          86.66666666666667,
          68.66666666666667,
          60.333333333333336,
          53.666666666666664,
          94,
          98.66666666666667,
          67.33333333333333,
          51.666666666666664,
          50.666666666666664,
          67,
          68,
          82.66666666666667,
          69.66666666666667,
          78.66666666666667,
          48,
          65,
          53.333333333333336,
          69.33333333333333,
          65.33333333333333,
          87.33333333333333,
          74.66666666666667,
          67.33333333333333,
          68.66666666666667,
          69.33333333333333,
          76.66666666666667,
          53,
          78,
          61.333333333333336,
          62.666666666666664,
          57,
          65.33333333333333,
          76,
          76,
          51.666666666666664,
          88.66666666666667,
          63.666666666666664,
          86,
          66.33333333333333,
          38.666666666666664,
          59,
          85,
          89,
          82,
          74.33333333333333,
          81.33333333333333,
          57.666666666666664,
          46.666666666666664,
          43.666666666666664,
          75.33333333333333,
          58.666666666666664,
          43,
          48,
          48.666666666666664,
          61,
          85,
          75,
          58.666666666666664,
          75,
          52.333333333333336,
          75,
          71.66666666666667,
          67,
          85.66666666666667,
          69.33333333333333,
          68.33333333333333,
          77,
          55.333333333333336,
          55,
          70,
          74.33333333333333,
          81.66666666666667,
          60.666666666666664,
          66,
          58.333333333333336,
          49.666666666666664,
          74,
          63.666666666666664,
          87,
          83.66666666666667,
          64.66666666666667,
          69.66666666666667,
          83.33333333333333,
          70,
          61,
          69.33333333333333,
          76.33333333333333,
          76.66666666666667,
          78,
          54.666666666666664,
          39.333333333333336,
          47,
          82.33333333333333,
          89,
          69,
          50.666666666666664,
          62.333333333333336,
          58.333333333333336,
          60.666666666666664,
          51,
          64.66666666666667,
          56,
          57.666666666666664,
          75.66666666666667,
          86.33333333333333,
          87,
          56,
          74.66666666666667,
          68.33333333333333,
          70,
          60.333333333333336,
          69.33333333333333,
          49,
          77.33333333333333,
          39.666666666666664,
          93.66666666666667,
          84,
          54.666666666666664,
          48,
          74.66666666666667,
          50.333333333333336,
          54.666666666666664,
          81.33333333333333,
          87.33333333333333,
          70,
          82.33333333333333,
          57.333333333333336,
          64.33333333333333,
          48.333333333333336,
          61.666666666666664,
          47.666666666666664,
          79,
          30.666666666666668,
          61.333333333333336,
          86,
          80.66666666666667,
          52,
          68,
          46.666666666666664,
          100,
          92.66666666666667,
          68.66666666666667,
          68,
          71,
          66,
          57.333333333333336,
          44.333333333333336,
          70.33333333333333,
          60.333333333333336,
          68.33333333333333,
          73,
          91.66666666666667,
          63.666666666666664,
          59,
          83.66666666666667,
          71.33333333333333,
          70,
          70.33333333333333,
          61.333333333333336,
          81.33333333333333,
          50.333333333333336,
          79.33333333333333,
          54.666666666666664,
          63.666666666666664,
          84,
          75.66666666666667,
          62.333333333333336,
          66,
          62,
          73,
          60.666666666666664,
          61.666666666666664,
          48,
          79,
          83.33333333333333,
          54,
          77.33333333333333,
          80.66666666666667,
          62.666666666666664,
          57.333333333333336
         ],
         "xaxis": "x",
         "yaxis": "y"
        }
       ],
       "layout": {
        "barmode": "overlay",
        "legend": {
         "title": {
          "text": "gender"
         },
         "tracegroupgap": 0
        },
        "template": {
         "data": {
          "bar": [
           {
            "error_x": {
             "color": "#2a3f5f"
            },
            "error_y": {
             "color": "#2a3f5f"
            },
            "marker": {
             "line": {
              "color": "#E5ECF6",
              "width": 0.5
             },
             "pattern": {
              "fillmode": "overlay",
              "size": 10,
              "solidity": 0.2
             }
            },
            "type": "bar"
           }
          ],
          "barpolar": [
           {
            "marker": {
             "line": {
              "color": "#E5ECF6",
              "width": 0.5
             },
             "pattern": {
              "fillmode": "overlay",
              "size": 10,
              "solidity": 0.2
             }
            },
            "type": "barpolar"
           }
          ],
          "carpet": [
           {
            "aaxis": {
             "endlinecolor": "#2a3f5f",
             "gridcolor": "white",
             "linecolor": "white",
             "minorgridcolor": "white",
             "startlinecolor": "#2a3f5f"
            },
            "baxis": {
             "endlinecolor": "#2a3f5f",
             "gridcolor": "white",
             "linecolor": "white",
             "minorgridcolor": "white",
             "startlinecolor": "#2a3f5f"
            },
            "type": "carpet"
           }
          ],
          "choropleth": [
           {
            "colorbar": {
             "outlinewidth": 0,
             "ticks": ""
            },
            "type": "choropleth"
           }
          ],
          "contour": [
           {
            "colorbar": {
             "outlinewidth": 0,
             "ticks": ""
            },
            "colorscale": [
             [
              0,
              "#0d0887"
             ],
             [
              0.1111111111111111,
              "#46039f"
             ],
             [
              0.2222222222222222,
              "#7201a8"
             ],
             [
              0.3333333333333333,
              "#9c179e"
             ],
             [
              0.4444444444444444,
              "#bd3786"
             ],
             [
              0.5555555555555556,
              "#d8576b"
             ],
             [
              0.6666666666666666,
              "#ed7953"
             ],
             [
              0.7777777777777778,
              "#fb9f3a"
             ],
             [
              0.8888888888888888,
              "#fdca26"
             ],
             [
              1,
              "#f0f921"
             ]
            ],
            "type": "contour"
           }
          ],
          "contourcarpet": [
           {
            "colorbar": {
             "outlinewidth": 0,
             "ticks": ""
            },
            "type": "contourcarpet"
           }
          ],
          "heatmap": [
           {
            "colorbar": {
             "outlinewidth": 0,
             "ticks": ""
            },
            "colorscale": [
             [
              0,
              "#0d0887"
             ],
             [
              0.1111111111111111,
              "#46039f"
             ],
             [
              0.2222222222222222,
              "#7201a8"
             ],
             [
              0.3333333333333333,
              "#9c179e"
             ],
             [
              0.4444444444444444,
              "#bd3786"
             ],
             [
              0.5555555555555556,
              "#d8576b"
             ],
             [
              0.6666666666666666,
              "#ed7953"
             ],
             [
              0.7777777777777778,
              "#fb9f3a"
             ],
             [
              0.8888888888888888,
              "#fdca26"
             ],
             [
              1,
              "#f0f921"
             ]
            ],
            "type": "heatmap"
           }
          ],
          "heatmapgl": [
           {
            "colorbar": {
             "outlinewidth": 0,
             "ticks": ""
            },
            "colorscale": [
             [
              0,
              "#0d0887"
             ],
             [
              0.1111111111111111,
              "#46039f"
             ],
             [
              0.2222222222222222,
              "#7201a8"
             ],
             [
              0.3333333333333333,
              "#9c179e"
             ],
             [
              0.4444444444444444,
              "#bd3786"
             ],
             [
              0.5555555555555556,
              "#d8576b"
             ],
             [
              0.6666666666666666,
              "#ed7953"
             ],
             [
              0.7777777777777778,
              "#fb9f3a"
             ],
             [
              0.8888888888888888,
              "#fdca26"
             ],
             [
              1,
              "#f0f921"
             ]
            ],
            "type": "heatmapgl"
           }
          ],
          "histogram": [
           {
            "marker": {
             "pattern": {
              "fillmode": "overlay",
              "size": 10,
              "solidity": 0.2
             }
            },
            "type": "histogram"
           }
          ],
          "histogram2d": [
           {
            "colorbar": {
             "outlinewidth": 0,
             "ticks": ""
            },
            "colorscale": [
             [
              0,
              "#0d0887"
             ],
             [
              0.1111111111111111,
              "#46039f"
             ],
             [
              0.2222222222222222,
              "#7201a8"
             ],
             [
              0.3333333333333333,
              "#9c179e"
             ],
             [
              0.4444444444444444,
              "#bd3786"
             ],
             [
              0.5555555555555556,
              "#d8576b"
             ],
             [
              0.6666666666666666,
              "#ed7953"
             ],
             [
              0.7777777777777778,
              "#fb9f3a"
             ],
             [
              0.8888888888888888,
              "#fdca26"
             ],
             [
              1,
              "#f0f921"
             ]
            ],
            "type": "histogram2d"
           }
          ],
          "histogram2dcontour": [
           {
            "colorbar": {
             "outlinewidth": 0,
             "ticks": ""
            },
            "colorscale": [
             [
              0,
              "#0d0887"
             ],
             [
              0.1111111111111111,
              "#46039f"
             ],
             [
              0.2222222222222222,
              "#7201a8"
             ],
             [
              0.3333333333333333,
              "#9c179e"
             ],
             [
              0.4444444444444444,
              "#bd3786"
             ],
             [
              0.5555555555555556,
              "#d8576b"
             ],
             [
              0.6666666666666666,
              "#ed7953"
             ],
             [
              0.7777777777777778,
              "#fb9f3a"
             ],
             [
              0.8888888888888888,
              "#fdca26"
             ],
             [
              1,
              "#f0f921"
             ]
            ],
            "type": "histogram2dcontour"
           }
          ],
          "mesh3d": [
           {
            "colorbar": {
             "outlinewidth": 0,
             "ticks": ""
            },
            "type": "mesh3d"
           }
          ],
          "parcoords": [
           {
            "line": {
             "colorbar": {
              "outlinewidth": 0,
              "ticks": ""
             }
            },
            "type": "parcoords"
           }
          ],
          "pie": [
           {
            "automargin": true,
            "type": "pie"
           }
          ],
          "scatter": [
           {
            "fillpattern": {
             "fillmode": "overlay",
             "size": 10,
             "solidity": 0.2
            },
            "type": "scatter"
           }
          ],
          "scatter3d": [
           {
            "line": {
             "colorbar": {
              "outlinewidth": 0,
              "ticks": ""
             }
            },
            "marker": {
             "colorbar": {
              "outlinewidth": 0,
              "ticks": ""
             }
            },
            "type": "scatter3d"
           }
          ],
          "scattercarpet": [
           {
            "marker": {
             "colorbar": {
              "outlinewidth": 0,
              "ticks": ""
             }
            },
            "type": "scattercarpet"
           }
          ],
          "scattergeo": [
           {
            "marker": {
             "colorbar": {
              "outlinewidth": 0,
              "ticks": ""
             }
            },
            "type": "scattergeo"
           }
          ],
          "scattergl": [
           {
            "marker": {
             "colorbar": {
              "outlinewidth": 0,
              "ticks": ""
             }
            },
            "type": "scattergl"
           }
          ],
          "scattermapbox": [
           {
            "marker": {
             "colorbar": {
              "outlinewidth": 0,
              "ticks": ""
             }
            },
            "type": "scattermapbox"
           }
          ],
          "scatterpolar": [
           {
            "marker": {
             "colorbar": {
              "outlinewidth": 0,
              "ticks": ""
             }
            },
            "type": "scatterpolar"
           }
          ],
          "scatterpolargl": [
           {
            "marker": {
             "colorbar": {
              "outlinewidth": 0,
              "ticks": ""
             }
            },
            "type": "scatterpolargl"
           }
          ],
          "scatterternary": [
           {
            "marker": {
             "colorbar": {
              "outlinewidth": 0,
              "ticks": ""
             }
            },
            "type": "scatterternary"
           }
          ],
          "surface": [
           {
            "colorbar": {
             "outlinewidth": 0,
             "ticks": ""
            },
            "colorscale": [
             [
              0,
              "#0d0887"
             ],
             [
              0.1111111111111111,
              "#46039f"
             ],
             [
              0.2222222222222222,
              "#7201a8"
             ],
             [
              0.3333333333333333,
              "#9c179e"
             ],
             [
              0.4444444444444444,
              "#bd3786"
             ],
             [
              0.5555555555555556,
              "#d8576b"
             ],
             [
              0.6666666666666666,
              "#ed7953"
             ],
             [
              0.7777777777777778,
              "#fb9f3a"
             ],
             [
              0.8888888888888888,
              "#fdca26"
             ],
             [
              1,
              "#f0f921"
             ]
            ],
            "type": "surface"
           }
          ],
          "table": [
           {
            "cells": {
             "fill": {
              "color": "#EBF0F8"
             },
             "line": {
              "color": "white"
             }
            },
            "header": {
             "fill": {
              "color": "#C8D4E3"
             },
             "line": {
              "color": "white"
             }
            },
            "type": "table"
           }
          ]
         },
         "layout": {
          "annotationdefaults": {
           "arrowcolor": "#2a3f5f",
           "arrowhead": 0,
           "arrowwidth": 1
          },
          "autotypenumbers": "strict",
          "coloraxis": {
           "colorbar": {
            "outlinewidth": 0,
            "ticks": ""
           }
          },
          "colorscale": {
           "diverging": [
            [
             0,
             "#8e0152"
            ],
            [
             0.1,
             "#c51b7d"
            ],
            [
             0.2,
             "#de77ae"
            ],
            [
             0.3,
             "#f1b6da"
            ],
            [
             0.4,
             "#fde0ef"
            ],
            [
             0.5,
             "#f7f7f7"
            ],
            [
             0.6,
             "#e6f5d0"
            ],
            [
             0.7,
             "#b8e186"
            ],
            [
             0.8,
             "#7fbc41"
            ],
            [
             0.9,
             "#4d9221"
            ],
            [
             1,
             "#276419"
            ]
           ],
           "sequential": [
            [
             0,
             "#0d0887"
            ],
            [
             0.1111111111111111,
             "#46039f"
            ],
            [
             0.2222222222222222,
             "#7201a8"
            ],
            [
             0.3333333333333333,
             "#9c179e"
            ],
            [
             0.4444444444444444,
             "#bd3786"
            ],
            [
             0.5555555555555556,
             "#d8576b"
            ],
            [
             0.6666666666666666,
             "#ed7953"
            ],
            [
             0.7777777777777778,
             "#fb9f3a"
            ],
            [
             0.8888888888888888,
             "#fdca26"
            ],
            [
             1,
             "#f0f921"
            ]
           ],
           "sequentialminus": [
            [
             0,
             "#0d0887"
            ],
            [
             0.1111111111111111,
             "#46039f"
            ],
            [
             0.2222222222222222,
             "#7201a8"
            ],
            [
             0.3333333333333333,
             "#9c179e"
            ],
            [
             0.4444444444444444,
             "#bd3786"
            ],
            [
             0.5555555555555556,
             "#d8576b"
            ],
            [
             0.6666666666666666,
             "#ed7953"
            ],
            [
             0.7777777777777778,
             "#fb9f3a"
            ],
            [
             0.8888888888888888,
             "#fdca26"
            ],
            [
             1,
             "#f0f921"
            ]
           ]
          },
          "colorway": [
           "#636efa",
           "#EF553B",
           "#00cc96",
           "#ab63fa",
           "#FFA15A",
           "#19d3f3",
           "#FF6692",
           "#B6E880",
           "#FF97FF",
           "#FECB52"
          ],
          "font": {
           "color": "#2a3f5f"
          },
          "geo": {
           "bgcolor": "white",
           "lakecolor": "white",
           "landcolor": "#E5ECF6",
           "showlakes": true,
           "showland": true,
           "subunitcolor": "white"
          },
          "hoverlabel": {
           "align": "left"
          },
          "hovermode": "closest",
          "mapbox": {
           "style": "light"
          },
          "paper_bgcolor": "white",
          "plot_bgcolor": "#E5ECF6",
          "polar": {
           "angularaxis": {
            "gridcolor": "white",
            "linecolor": "white",
            "ticks": ""
           },
           "bgcolor": "#E5ECF6",
           "radialaxis": {
            "gridcolor": "white",
            "linecolor": "white",
            "ticks": ""
           }
          },
          "scene": {
           "xaxis": {
            "backgroundcolor": "#E5ECF6",
            "gridcolor": "white",
            "gridwidth": 2,
            "linecolor": "white",
            "showbackground": true,
            "ticks": "",
            "zerolinecolor": "white"
           },
           "yaxis": {
            "backgroundcolor": "#E5ECF6",
            "gridcolor": "white",
            "gridwidth": 2,
            "linecolor": "white",
            "showbackground": true,
            "ticks": "",
            "zerolinecolor": "white"
           },
           "zaxis": {
            "backgroundcolor": "#E5ECF6",
            "gridcolor": "white",
            "gridwidth": 2,
            "linecolor": "white",
            "showbackground": true,
            "ticks": "",
            "zerolinecolor": "white"
           }
          },
          "shapedefaults": {
           "line": {
            "color": "#2a3f5f"
           }
          },
          "ternary": {
           "aaxis": {
            "gridcolor": "white",
            "linecolor": "white",
            "ticks": ""
           },
           "baxis": {
            "gridcolor": "white",
            "linecolor": "white",
            "ticks": ""
           },
           "bgcolor": "#E5ECF6",
           "caxis": {
            "gridcolor": "white",
            "linecolor": "white",
            "ticks": ""
           }
          },
          "title": {
           "x": 0.05
          },
          "xaxis": {
           "automargin": true,
           "gridcolor": "white",
           "linecolor": "white",
           "ticks": "",
           "title": {
            "standoff": 15
           },
           "zerolinecolor": "white",
           "zerolinewidth": 2
          },
          "yaxis": {
           "automargin": true,
           "gridcolor": "white",
           "linecolor": "white",
           "ticks": "",
           "title": {
            "standoff": 15
           },
           "zerolinecolor": "white",
           "zerolinewidth": 2
          }
         }
        },
        "title": {
         "text": "Overall score of students"
        },
        "width": 800,
        "xaxis": {
         "anchor": "y",
         "domain": [
          0,
          1
         ],
         "title": {
          "text": "overall score (male + female)"
         }
        },
        "yaxis": {
         "anchor": "x",
         "domain": [
          0,
          1
         ],
         "title": {
          "text": "count"
         }
        }
       }
      }
     },
     "metadata": {},
     "output_type": "display_data"
    }
   ],
   "source": [
    "# df['overall score'].plot.hist(bins = 30)\n",
    "g = px.histogram(df, x='overall_score', nbins=30, color='gender', title=\"Overall score of students\", labels={\"overall_score\":\"overall score (male + female)\"}, width = 800, barmode='overlay')\n",
    "g.show()"
   ]
  },
  {
   "cell_type": "markdown",
   "metadata": {},
   "source": [
    "Ženy"
   ]
  },
  {
   "cell_type": "code",
   "execution_count": null,
   "metadata": {},
   "outputs": [
    {
     "data": {
      "application/vnd.plotly.v1+json": {
       "config": {
        "plotlyServerURL": "https://plot.ly"
       },
       "data": [
        {
         "alignmentgroup": "True",
         "bingroup": "x",
         "hovertemplate": "overall score (female)=%{x}<br>count=%{y}<extra></extra>",
         "legendgroup": "",
         "marker": {
          "color": "#636efa",
          "pattern": {
           "shape": ""
          }
         },
         "name": "",
         "offsetgroup": "",
         "orientation": "v",
         "showlegend": false,
         "type": "histogram",
         "x": [
          72.66666666666667,
          82.33333333333333,
          92.66666666666667,
          77.33333333333333,
          91.66666666666667,
          49.333333333333336,
          73,
          53.666666666666664,
          74,
          26,
          57.666666666666664,
          70,
          71.66666666666667,
          70.33333333333333,
          69,
          72.33333333333333,
          63,
          64.33333333333333,
          79.33333333333333,
          57.666666666666664,
          84.33333333333333,
          66.33333333333333,
          58.666666666666664,
          53.333333333333336,
          60.666666666666664,
          71,
          69,
          80.66666666666667,
          39,
          84.33333333333333,
          9,
          73.33333333333333,
          58.666666666666664,
          68.66666666666667,
          53.333333333333336,
          64.66666666666667,
          46.666666666666664,
          69,
          66,
          48.666666666666664,
          78.33333333333333,
          82.33333333333333,
          72,
          65,
          80.33333333333333,
          70.33333333333333,
          85.66666666666667,
          68.33333333333333,
          62.333333333333336,
          64.66666666666667,
          88.33333333333333,
          65.66666666666667,
          95.66666666666667,
          66,
          68.66666666666667,
          88,
          54.333333333333336,
          99.66666666666667,
          80.66666666666667,
          79.66666666666667,
          58.333333333333336,
          63,
          86.66666666666667,
          91.33333333333333,
          89.33333333333333,
          50.333333333333336,
          80,
          64,
          73,
          61.666666666666664,
          50.333333333333336,
          31.333333333333332,
          74.66666666666667,
          65,
          82.33333333333333,
          72.66666666666667,
          78,
          82.66666666666667,
          88,
          98.66666666666667,
          70.66666666666667,
          76.33333333333333,
          70.66666666666667,
          82,
          66.66666666666667,
          49.333333333333336,
          86.33333333333333,
          52.666666666666664,
          75,
          61.333333333333336,
          99,
          58.666666666666664,
          49,
          68,
          84,
          66.66666666666667,
          64,
          79.33333333333333,
          51,
          77.66666666666667,
          79,
          74.33333333333333,
          64.66666666666667,
          77,
          61.666666666666664,
          54.666666666666664,
          85.66666666666667,
          38.333333333333336,
          66,
          60.666666666666664,
          63.666666666666664,
          51.666666666666664,
          71.66666666666667,
          92.33333333333333,
          78.66666666666667,
          66,
          82,
          54.333333333333336,
          65.33333333333333,
          63.666666666666664,
          79,
          66.66666666666667,
          68.33333333333333,
          68.33333333333333,
          74.33333333333333,
          75.66666666666667,
          73.33333333333333,
          48.333333333333336,
          94,
          73,
          72.66666666666667,
          91.66666666666667,
          72.33333333333333,
          52.666666666666664,
          68.66666666666667,
          90,
          65.66666666666667,
          77,
          78.66666666666667,
          75.33333333333333,
          43,
          79.33333333333333,
          71,
          77.33333333333333,
          77.33333333333333,
          63.666666666666664,
          52.666666666666664,
          76.33333333333333,
          68,
          66,
          83.33333333333333,
          61.333333333333336,
          76.66666666666667,
          80,
          77.33333333333333,
          49.666666666666664,
          43.333333333333336,
          88.66666666666667,
          49,
          90.33333333333333,
          65,
          29.666666666666668,
          50,
          65.66666666666667,
          73,
          75.66666666666667,
          88.66666666666667,
          62,
          73.66666666666667,
          53.666666666666664,
          66.66666666666667,
          67.66666666666667,
          59,
          86.33333333333333,
          59.666666666666664,
          56,
          31,
          55.333333333333336,
          80.66666666666667,
          62.666666666666664,
          91.66666666666667,
          67.33333333333333,
          84,
          93.33333333333333,
          77,
          83,
          44,
          41.333333333333336,
          72.66666666666667,
          69,
          67.33333333333333,
          63.333333333333336,
          74,
          72,
          60,
          89.66666666666667,
          60,
          56.333333333333336,
          95.66666666666667,
          58.333333333333336,
          68,
          79.66666666666667,
          55,
          71.66666666666667,
          67.33333333333333,
          89.33333333333333,
          59.666666666666664,
          57.333333333333336,
          74.66666666666667,
          63.666666666666664,
          67.66666666666667,
          52,
          75.66666666666667,
          79.66666666666667,
          67,
          77.33333333333333,
          72.66666666666667,
          78,
          96.33333333333333,
          72,
          58.666666666666664,
          85.66666666666667,
          100,
          72.33333333333333,
          86,
          87.33333333333333,
          31.666666666666668,
          83.33333333333333,
          86,
          68.66666666666667,
          79.33333333333333,
          62.333333333333336,
          90.33333333333333,
          76.66666666666667,
          63,
          55.666666666666664,
          51.666666666666664,
          69.66666666666667,
          75.33333333333333,
          66,
          85.33333333333333,
          86.33333333333333,
          62,
          51.333333333333336,
          71,
          67.66666666666667,
          78.33333333333333,
          91,
          92,
          51,
          81.33333333333333,
          88.33333333333333,
          59,
          89.33333333333333,
          82.66666666666667,
          82.33333333333333,
          71,
          74,
          74.66666666666667,
          87,
          44,
          39,
          68.66666666666667,
          69.33333333333333,
          51.333333333333336,
          87,
          77.33333333333333,
          59.666666666666664,
          79,
          88.66666666666667,
          64.33333333333333,
          96.33333333333333,
          64.33333333333333,
          46,
          34.666666666666664,
          68.66666666666667,
          64.33333333333333,
          76,
          70.33333333333333,
          74.33333333333333,
          97.33333333333333,
          70,
          57,
          60,
          75.33333333333333,
          87,
          54,
          60.666666666666664,
          91.33333333333333,
          78.66666666666667,
          71.33333333333333,
          76,
          74.33333333333333,
          72.33333333333333,
          67,
          56.333333333333336,
          61,
          59.666666666666664,
          74.33333333333333,
          97,
          69,
          73,
          76,
          59,
          29.333333333333332,
          78,
          83.66666666666667,
          50.666666666666664,
          62.333333333333336,
          62,
          61,
          72,
          89.33333333333333,
          66.66666666666667,
          40,
          50,
          60.333333333333336,
          50,
          73.66666666666667,
          82.66666666666667,
          76,
          86.66666666666667,
          74.33333333333333,
          84,
          77.33333333333333,
          77.66666666666667,
          75.66666666666667,
          64.66666666666667,
          64.66666666666667,
          52.666666666666664,
          76.33333333333333,
          74.66666666666667,
          89.66666666666667,
          69.66666666666667,
          77,
          65.33333333333333,
          53.666666666666664,
          65,
          67,
          56.666666666666664,
          69,
          83,
          70,
          74.33333333333333,
          77.66666666666667,
          74.66666666666667,
          60,
          75.66666666666667,
          76,
          71,
          37.666666666666664,
          97.66666666666667,
          51.666666666666664,
          75.66666666666667,
          73.66666666666667,
          75.66666666666667,
          56,
          84.66666666666667,
          82.33333333333333,
          67,
          71.33333333333333,
          80.66666666666667,
          65.33333333333333,
          64.66666666666667,
          62,
          53.666666666666664,
          83.33333333333333,
          99,
          68,
          85.66666666666667,
          97,
          75.33333333333333,
          68,
          84,
          72.33333333333333,
          83,
          75,
          90,
          56,
          64,
          50,
          82.33333333333333,
          68,
          56.333333333333336,
          84,
          90.33333333333333,
          58.666666666666664,
          63,
          53.333333333333336,
          62.333333333333336,
          72.66666666666667,
          70,
          71.33333333333333,
          63.666666666666664,
          73,
          54,
          69.33333333333333,
          40.666666666666664,
          77.66666666666667,
          53,
          83.66666666666667,
          81,
          57.666666666666664,
          42.333333333333336,
          76,
          29.666666666666668,
          59.333333333333336,
          56.666666666666664,
          65.33333333333333,
          48.333333333333336,
          66,
          78.33333333333333,
          54.666666666666664,
          92,
          84.66666666666667,
          75.66666666666667,
          71,
          42,
          61.666666666666664,
          78.33333333333333,
          56,
          66.66666666666667,
          85.33333333333333,
          89,
          87,
          80,
          52.666666666666664,
          64.66666666666667,
          70,
          78.66666666666667,
          59.333333333333336,
          83,
          82.66666666666667,
          66,
          78.66666666666667,
          72,
          45.666666666666664,
          34.333333333333336,
          56.333333333333336,
          66.33333333333333,
          64,
          88.33333333333333,
          96.66666666666667,
          75,
          56,
          84.66666666666667,
          74,
          72.66666666666667,
          55.333333333333336,
          70.33333333333333,
          71.33333333333333,
          70.33333333333333,
          69.33333333333333,
          52,
          72.66666666666667,
          96,
          69.33333333333333,
          87.33333333333333,
          87.33333333333333,
          63.333333333333336,
          63.333333333333336,
          34.666666666666664,
          73.33333333333333,
          75,
          75,
          41,
          97.66666666666667,
          78.33333333333333,
          84.66666666666667,
          71.33333333333333,
          78.33333333333333,
          59.666666666666664,
          58.333333333333336,
          54,
          68,
          52.333333333333336,
          71.33333333333333,
          44.666666666666664,
          61.333333333333336,
          65.66666666666667,
          51.666666666666664,
          57.333333333333336,
          88.33333333333333,
          62.333333333333336,
          57.666666666666664,
          55.666666666666664,
          68.33333333333333,
          78.33333333333333,
          73.33333333333333,
          66.66666666666667,
          97.33333333333333,
          55.666666666666664,
          59.333333333333336,
          51.666666666666664,
          100,
          72,
          68,
          70.33333333333333,
          79.66666666666667,
          96.33333333333333,
          54.333333333333336,
          58.333333333333336,
          61.333333333333336,
          74.33333333333333,
          93.33333333333333,
          18.333333333333332,
          85.33333333333333,
          77,
          50,
          44.666666666666664,
          78.66666666666667,
          75,
          69,
          69.33333333333333,
          94,
          65,
          74.33333333333333,
          83
         ],
         "xaxis": "x",
         "yaxis": "y"
        }
       ],
       "layout": {
        "barmode": "relative",
        "legend": {
         "tracegroupgap": 0
        },
        "template": {
         "data": {
          "bar": [
           {
            "error_x": {
             "color": "#2a3f5f"
            },
            "error_y": {
             "color": "#2a3f5f"
            },
            "marker": {
             "line": {
              "color": "#E5ECF6",
              "width": 0.5
             },
             "pattern": {
              "fillmode": "overlay",
              "size": 10,
              "solidity": 0.2
             }
            },
            "type": "bar"
           }
          ],
          "barpolar": [
           {
            "marker": {
             "line": {
              "color": "#E5ECF6",
              "width": 0.5
             },
             "pattern": {
              "fillmode": "overlay",
              "size": 10,
              "solidity": 0.2
             }
            },
            "type": "barpolar"
           }
          ],
          "carpet": [
           {
            "aaxis": {
             "endlinecolor": "#2a3f5f",
             "gridcolor": "white",
             "linecolor": "white",
             "minorgridcolor": "white",
             "startlinecolor": "#2a3f5f"
            },
            "baxis": {
             "endlinecolor": "#2a3f5f",
             "gridcolor": "white",
             "linecolor": "white",
             "minorgridcolor": "white",
             "startlinecolor": "#2a3f5f"
            },
            "type": "carpet"
           }
          ],
          "choropleth": [
           {
            "colorbar": {
             "outlinewidth": 0,
             "ticks": ""
            },
            "type": "choropleth"
           }
          ],
          "contour": [
           {
            "colorbar": {
             "outlinewidth": 0,
             "ticks": ""
            },
            "colorscale": [
             [
              0,
              "#0d0887"
             ],
             [
              0.1111111111111111,
              "#46039f"
             ],
             [
              0.2222222222222222,
              "#7201a8"
             ],
             [
              0.3333333333333333,
              "#9c179e"
             ],
             [
              0.4444444444444444,
              "#bd3786"
             ],
             [
              0.5555555555555556,
              "#d8576b"
             ],
             [
              0.6666666666666666,
              "#ed7953"
             ],
             [
              0.7777777777777778,
              "#fb9f3a"
             ],
             [
              0.8888888888888888,
              "#fdca26"
             ],
             [
              1,
              "#f0f921"
             ]
            ],
            "type": "contour"
           }
          ],
          "contourcarpet": [
           {
            "colorbar": {
             "outlinewidth": 0,
             "ticks": ""
            },
            "type": "contourcarpet"
           }
          ],
          "heatmap": [
           {
            "colorbar": {
             "outlinewidth": 0,
             "ticks": ""
            },
            "colorscale": [
             [
              0,
              "#0d0887"
             ],
             [
              0.1111111111111111,
              "#46039f"
             ],
             [
              0.2222222222222222,
              "#7201a8"
             ],
             [
              0.3333333333333333,
              "#9c179e"
             ],
             [
              0.4444444444444444,
              "#bd3786"
             ],
             [
              0.5555555555555556,
              "#d8576b"
             ],
             [
              0.6666666666666666,
              "#ed7953"
             ],
             [
              0.7777777777777778,
              "#fb9f3a"
             ],
             [
              0.8888888888888888,
              "#fdca26"
             ],
             [
              1,
              "#f0f921"
             ]
            ],
            "type": "heatmap"
           }
          ],
          "heatmapgl": [
           {
            "colorbar": {
             "outlinewidth": 0,
             "ticks": ""
            },
            "colorscale": [
             [
              0,
              "#0d0887"
             ],
             [
              0.1111111111111111,
              "#46039f"
             ],
             [
              0.2222222222222222,
              "#7201a8"
             ],
             [
              0.3333333333333333,
              "#9c179e"
             ],
             [
              0.4444444444444444,
              "#bd3786"
             ],
             [
              0.5555555555555556,
              "#d8576b"
             ],
             [
              0.6666666666666666,
              "#ed7953"
             ],
             [
              0.7777777777777778,
              "#fb9f3a"
             ],
             [
              0.8888888888888888,
              "#fdca26"
             ],
             [
              1,
              "#f0f921"
             ]
            ],
            "type": "heatmapgl"
           }
          ],
          "histogram": [
           {
            "marker": {
             "pattern": {
              "fillmode": "overlay",
              "size": 10,
              "solidity": 0.2
             }
            },
            "type": "histogram"
           }
          ],
          "histogram2d": [
           {
            "colorbar": {
             "outlinewidth": 0,
             "ticks": ""
            },
            "colorscale": [
             [
              0,
              "#0d0887"
             ],
             [
              0.1111111111111111,
              "#46039f"
             ],
             [
              0.2222222222222222,
              "#7201a8"
             ],
             [
              0.3333333333333333,
              "#9c179e"
             ],
             [
              0.4444444444444444,
              "#bd3786"
             ],
             [
              0.5555555555555556,
              "#d8576b"
             ],
             [
              0.6666666666666666,
              "#ed7953"
             ],
             [
              0.7777777777777778,
              "#fb9f3a"
             ],
             [
              0.8888888888888888,
              "#fdca26"
             ],
             [
              1,
              "#f0f921"
             ]
            ],
            "type": "histogram2d"
           }
          ],
          "histogram2dcontour": [
           {
            "colorbar": {
             "outlinewidth": 0,
             "ticks": ""
            },
            "colorscale": [
             [
              0,
              "#0d0887"
             ],
             [
              0.1111111111111111,
              "#46039f"
             ],
             [
              0.2222222222222222,
              "#7201a8"
             ],
             [
              0.3333333333333333,
              "#9c179e"
             ],
             [
              0.4444444444444444,
              "#bd3786"
             ],
             [
              0.5555555555555556,
              "#d8576b"
             ],
             [
              0.6666666666666666,
              "#ed7953"
             ],
             [
              0.7777777777777778,
              "#fb9f3a"
             ],
             [
              0.8888888888888888,
              "#fdca26"
             ],
             [
              1,
              "#f0f921"
             ]
            ],
            "type": "histogram2dcontour"
           }
          ],
          "mesh3d": [
           {
            "colorbar": {
             "outlinewidth": 0,
             "ticks": ""
            },
            "type": "mesh3d"
           }
          ],
          "parcoords": [
           {
            "line": {
             "colorbar": {
              "outlinewidth": 0,
              "ticks": ""
             }
            },
            "type": "parcoords"
           }
          ],
          "pie": [
           {
            "automargin": true,
            "type": "pie"
           }
          ],
          "scatter": [
           {
            "fillpattern": {
             "fillmode": "overlay",
             "size": 10,
             "solidity": 0.2
            },
            "type": "scatter"
           }
          ],
          "scatter3d": [
           {
            "line": {
             "colorbar": {
              "outlinewidth": 0,
              "ticks": ""
             }
            },
            "marker": {
             "colorbar": {
              "outlinewidth": 0,
              "ticks": ""
             }
            },
            "type": "scatter3d"
           }
          ],
          "scattercarpet": [
           {
            "marker": {
             "colorbar": {
              "outlinewidth": 0,
              "ticks": ""
             }
            },
            "type": "scattercarpet"
           }
          ],
          "scattergeo": [
           {
            "marker": {
             "colorbar": {
              "outlinewidth": 0,
              "ticks": ""
             }
            },
            "type": "scattergeo"
           }
          ],
          "scattergl": [
           {
            "marker": {
             "colorbar": {
              "outlinewidth": 0,
              "ticks": ""
             }
            },
            "type": "scattergl"
           }
          ],
          "scattermapbox": [
           {
            "marker": {
             "colorbar": {
              "outlinewidth": 0,
              "ticks": ""
             }
            },
            "type": "scattermapbox"
           }
          ],
          "scatterpolar": [
           {
            "marker": {
             "colorbar": {
              "outlinewidth": 0,
              "ticks": ""
             }
            },
            "type": "scatterpolar"
           }
          ],
          "scatterpolargl": [
           {
            "marker": {
             "colorbar": {
              "outlinewidth": 0,
              "ticks": ""
             }
            },
            "type": "scatterpolargl"
           }
          ],
          "scatterternary": [
           {
            "marker": {
             "colorbar": {
              "outlinewidth": 0,
              "ticks": ""
             }
            },
            "type": "scatterternary"
           }
          ],
          "surface": [
           {
            "colorbar": {
             "outlinewidth": 0,
             "ticks": ""
            },
            "colorscale": [
             [
              0,
              "#0d0887"
             ],
             [
              0.1111111111111111,
              "#46039f"
             ],
             [
              0.2222222222222222,
              "#7201a8"
             ],
             [
              0.3333333333333333,
              "#9c179e"
             ],
             [
              0.4444444444444444,
              "#bd3786"
             ],
             [
              0.5555555555555556,
              "#d8576b"
             ],
             [
              0.6666666666666666,
              "#ed7953"
             ],
             [
              0.7777777777777778,
              "#fb9f3a"
             ],
             [
              0.8888888888888888,
              "#fdca26"
             ],
             [
              1,
              "#f0f921"
             ]
            ],
            "type": "surface"
           }
          ],
          "table": [
           {
            "cells": {
             "fill": {
              "color": "#EBF0F8"
             },
             "line": {
              "color": "white"
             }
            },
            "header": {
             "fill": {
              "color": "#C8D4E3"
             },
             "line": {
              "color": "white"
             }
            },
            "type": "table"
           }
          ]
         },
         "layout": {
          "annotationdefaults": {
           "arrowcolor": "#2a3f5f",
           "arrowhead": 0,
           "arrowwidth": 1
          },
          "autotypenumbers": "strict",
          "coloraxis": {
           "colorbar": {
            "outlinewidth": 0,
            "ticks": ""
           }
          },
          "colorscale": {
           "diverging": [
            [
             0,
             "#8e0152"
            ],
            [
             0.1,
             "#c51b7d"
            ],
            [
             0.2,
             "#de77ae"
            ],
            [
             0.3,
             "#f1b6da"
            ],
            [
             0.4,
             "#fde0ef"
            ],
            [
             0.5,
             "#f7f7f7"
            ],
            [
             0.6,
             "#e6f5d0"
            ],
            [
             0.7,
             "#b8e186"
            ],
            [
             0.8,
             "#7fbc41"
            ],
            [
             0.9,
             "#4d9221"
            ],
            [
             1,
             "#276419"
            ]
           ],
           "sequential": [
            [
             0,
             "#0d0887"
            ],
            [
             0.1111111111111111,
             "#46039f"
            ],
            [
             0.2222222222222222,
             "#7201a8"
            ],
            [
             0.3333333333333333,
             "#9c179e"
            ],
            [
             0.4444444444444444,
             "#bd3786"
            ],
            [
             0.5555555555555556,
             "#d8576b"
            ],
            [
             0.6666666666666666,
             "#ed7953"
            ],
            [
             0.7777777777777778,
             "#fb9f3a"
            ],
            [
             0.8888888888888888,
             "#fdca26"
            ],
            [
             1,
             "#f0f921"
            ]
           ],
           "sequentialminus": [
            [
             0,
             "#0d0887"
            ],
            [
             0.1111111111111111,
             "#46039f"
            ],
            [
             0.2222222222222222,
             "#7201a8"
            ],
            [
             0.3333333333333333,
             "#9c179e"
            ],
            [
             0.4444444444444444,
             "#bd3786"
            ],
            [
             0.5555555555555556,
             "#d8576b"
            ],
            [
             0.6666666666666666,
             "#ed7953"
            ],
            [
             0.7777777777777778,
             "#fb9f3a"
            ],
            [
             0.8888888888888888,
             "#fdca26"
            ],
            [
             1,
             "#f0f921"
            ]
           ]
          },
          "colorway": [
           "#636efa",
           "#EF553B",
           "#00cc96",
           "#ab63fa",
           "#FFA15A",
           "#19d3f3",
           "#FF6692",
           "#B6E880",
           "#FF97FF",
           "#FECB52"
          ],
          "font": {
           "color": "#2a3f5f"
          },
          "geo": {
           "bgcolor": "white",
           "lakecolor": "white",
           "landcolor": "#E5ECF6",
           "showlakes": true,
           "showland": true,
           "subunitcolor": "white"
          },
          "hoverlabel": {
           "align": "left"
          },
          "hovermode": "closest",
          "mapbox": {
           "style": "light"
          },
          "paper_bgcolor": "white",
          "plot_bgcolor": "#E5ECF6",
          "polar": {
           "angularaxis": {
            "gridcolor": "white",
            "linecolor": "white",
            "ticks": ""
           },
           "bgcolor": "#E5ECF6",
           "radialaxis": {
            "gridcolor": "white",
            "linecolor": "white",
            "ticks": ""
           }
          },
          "scene": {
           "xaxis": {
            "backgroundcolor": "#E5ECF6",
            "gridcolor": "white",
            "gridwidth": 2,
            "linecolor": "white",
            "showbackground": true,
            "ticks": "",
            "zerolinecolor": "white"
           },
           "yaxis": {
            "backgroundcolor": "#E5ECF6",
            "gridcolor": "white",
            "gridwidth": 2,
            "linecolor": "white",
            "showbackground": true,
            "ticks": "",
            "zerolinecolor": "white"
           },
           "zaxis": {
            "backgroundcolor": "#E5ECF6",
            "gridcolor": "white",
            "gridwidth": 2,
            "linecolor": "white",
            "showbackground": true,
            "ticks": "",
            "zerolinecolor": "white"
           }
          },
          "shapedefaults": {
           "line": {
            "color": "#2a3f5f"
           }
          },
          "ternary": {
           "aaxis": {
            "gridcolor": "white",
            "linecolor": "white",
            "ticks": ""
           },
           "baxis": {
            "gridcolor": "white",
            "linecolor": "white",
            "ticks": ""
           },
           "bgcolor": "#E5ECF6",
           "caxis": {
            "gridcolor": "white",
            "linecolor": "white",
            "ticks": ""
           }
          },
          "title": {
           "x": 0.05
          },
          "xaxis": {
           "automargin": true,
           "gridcolor": "white",
           "linecolor": "white",
           "ticks": "",
           "title": {
            "standoff": 15
           },
           "zerolinecolor": "white",
           "zerolinewidth": 2
          },
          "yaxis": {
           "automargin": true,
           "gridcolor": "white",
           "linecolor": "white",
           "ticks": "",
           "title": {
            "standoff": 15
           },
           "zerolinecolor": "white",
           "zerolinewidth": 2
          }
         }
        },
        "title": {
         "text": "Overall score of students"
        },
        "width": 800,
        "xaxis": {
         "anchor": "y",
         "domain": [
          0,
          1
         ],
         "title": {
          "text": "overall score (female)"
         }
        },
        "yaxis": {
         "anchor": "x",
         "domain": [
          0,
          1
         ],
         "title": {
          "text": "count"
         }
        }
       }
      }
     },
     "metadata": {},
     "output_type": "display_data"
    },
    {
     "name": "stdout",
     "output_type": "stream",
     "text": [
      "0:00:00.034616 0:00:00.065999\n"
     ]
    },
    {
     "data": {
      "image/png": "[encoded data removed]",
      "text/plain": [
       "<Figure size 640x480 with 1 Axes>"
      ]
     },
     "metadata": {},
     "output_type": "display_data"
    }
   ],
   "source": [
    "dff = df['overall_score'].loc[df['gender'] == 'female']\n",
    "\n",
    "dff.plot.hist()\n",
    "\n",
    "g = px.histogram(dff, x = 'overall_score', title=\"Overall score of students\", labels={\"overall_score\":\"overall score (female)\"}, width=800)\n",
    "g.show()\n"
   ]
  },
  {
   "cell_type": "markdown",
   "metadata": {},
   "source": [
    "Muži"
   ]
  },
  {
   "cell_type": "code",
   "execution_count": null,
   "metadata": {},
   "outputs": [
    {
     "data": {
      "application/vnd.plotly.v1+json": {
       "config": {
        "plotlyServerURL": "https://plot.ly"
       },
       "data": [
        {
         "alignmentgroup": "True",
         "bingroup": "x",
         "hovertemplate": "overall_score=%{x}<br>count=%{y}<extra></extra>",
         "legendgroup": "",
         "marker": {
          "color": "#636efa",
          "pattern": {
           "shape": ""
          }
         },
         "name": "",
         "nbinsx": 30,
         "offsetgroup": "",
         "orientation": "v",
         "showlegend": false,
         "type": "histogram",
         "x": [
          49.333333333333336,
          76.33333333333333,
          40.666666666666664,
          65,
          54.666666666666664,
          45,
          73.33333333333333,
          87.66666666666667,
          44.666666666666664,
          66,
          50.333333333333336,
          75,
          73,
          59.333333333333336,
          68.33333333333333,
          40,
          88.66666666666667,
          80.33333333333333,
          56.666666666666664,
          56.666666666666664,
          63.333333333333336,
          58.666666666666664,
          82.66666666666667,
          52,
          71.33333333333333,
          46.333333333333336,
          80.33333333333333,
          52,
          58.333333333333336,
          75,
          37.333333333333336,
          59.333333333333336,
          64,
          39.666666666666664,
          58.333333333333336,
          60.333333333333336,
          58,
          46.333333333333336,
          41,
          26,
          79.66666666666667,
          46.333333333333336,
          50.333333333333336,
          66.33333333333333,
          38.333333333333336,
          32.333333333333336,
          73.66666666666667,
          46,
          80.33333333333333,
          64.33333333333333,
          71,
          72,
          50.333333333333336,
          91.33333333333333,
          64.33333333333333,
          55.333333333333336,
          51.333333333333336,
          78.33333333333333,
          90.66666666666667,
          58.666666666666664,
          78.66666666666667,
          69,
          72,
          79.33333333333333,
          85,
          43.333333333333336,
          77,
          76,
          53.666666666666664,
          48.666666666666664,
          60.333333333333336,
          67,
          49,
          79.66666666666667,
          82.33333333333333,
          69,
          97.66666666666667,
          66,
          70.66666666666667,
          50,
          63.333333333333336,
          60,
          64,
          78,
          51.333333333333336,
          51.333333333333336,
          51.666666666666664,
          73,
          86.66666666666667,
          68.33333333333333,
          48.666666666666664,
          65.66666666666667,
          73.66666666666667,
          65.33333333333333,
          48.333333333333336,
          79.33333333333333,
          67,
          56,
          64.33333333333333,
          54,
          71.66666666666667,
          47.333333333333336,
          74.33333333333333,
          68.66666666666667,
          79,
          79.33333333333333,
          30,
          55.666666666666664,
          86.33333333333333,
          80.66666666666667,
          71,
          57.666666666666664,
          81.66666666666667,
          80.33333333333333,
          53.666666666666664,
          68,
          68.66666666666667,
          43.666666666666664,
          85.66666666666667,
          83,
          77.33333333333333,
          65.33333333333333,
          52.333333333333336,
          81.33333333333333,
          69,
          51,
          72.66666666666667,
          77.33333333333333,
          79.66666666666667,
          60.333333333333336,
          48.333333333333336,
          77.33333333333333,
          52.666666666666664,
          77.33333333333333,
          78.66666666666667,
          72.33333333333333,
          47.333333333333336,
          64.33333333333333,
          49.666666666666664,
          83,
          78,
          62,
          49,
          46.333333333333336,
          81.66666666666667,
          89,
          79.66666666666667,
          76.66666666666667,
          71.33333333333333,
          76.33333333333333,
          60,
          78.33333333333333,
          63,
          43.333333333333336,
          71,
          45.333333333333336,
          84,
          80,
          54,
          73.33333333333333,
          68.33333333333333,
          89,
          49,
          61,
          65.33333333333333,
          67.33333333333333,
          77.66666666666667,
          67.66666666666667,
          61.333333333333336,
          23.333333333333332,
          78,
          64,
          39.666666666666664,
          57,
          83,
          71.66666666666667,
          47.666666666666664,
          57,
          68.66666666666667,
          73,
          60,
          71.66666666666667,
          79,
          58.333333333333336,
          61.666666666666664,
          60.666666666666664,
          82.33333333333333,
          59,
          55.666666666666664,
          60,
          62.666666666666664,
          77.33333333333333,
          73.33333333333333,
          43.333333333333336,
          64,
          94,
          77,
          72.66666666666667,
          66.33333333333333,
          70,
          55.666666666666664,
          44.666666666666664,
          64.66666666666667,
          57.666666666666664,
          46.333333333333336,
          64.33333333333333,
          85.33333333333333,
          81.66666666666667,
          65.66666666666667,
          65.66666666666667,
          75.33333333333333,
          71,
          71.33333333333333,
          63,
          55.666666666666664,
          38,
          85,
          68.33333333333333,
          59,
          61.666666666666664,
          63,
          57.333333333333336,
          68.33333333333333,
          50.333333333333336,
          69,
          71.33333333333333,
          59,
          86.33333333333333,
          78,
          65,
          82.33333333333333,
          45,
          75.33333333333333,
          57.333333333333336,
          46.666666666666664,
          51.666666666666664,
          68.33333333333333,
          55.333333333333336,
          51,
          65,
          68,
          80.33333333333333,
          68,
          73.33333333333333,
          71.33333333333333,
          70.66666666666667,
          65.66666666666667,
          52.333333333333336,
          71.66666666666667,
          54.666666666666664,
          58,
          81,
          66,
          73,
          59.333333333333336,
          68,
          56,
          78,
          73.33333333333333,
          52.333333333333336,
          54.333333333333336,
          57.333333333333336,
          61.333333333333336,
          54.333333333333336,
          51.333333333333336,
          62.333333333333336,
          59,
          60.333333333333336,
          70,
          56.333333333333336,
          74,
          91.66666666666667,
          70.66666666666667,
          80.33333333333333,
          80.33333333333333,
          67.66666666666667,
          73.33333333333333,
          73.33333333333333,
          88.33333333333333,
          67.66666666666667,
          46,
          64.66666666666667,
          67,
          92.66666666666667,
          48.333333333333336,
          45.333333333333336,
          52.666666666666664,
          67.66666666666667,
          72,
          93,
          49.333333333333336,
          54.666666666666664,
          56.333333333333336,
          61,
          66.66666666666667,
          23,
          51.666666666666664,
          56,
          87.66666666666667,
          69.66666666666667,
          64,
          91.66666666666667,
          83,
          86.66666666666667,
          68.66666666666667,
          60.333333333333336,
          53.666666666666664,
          94,
          98.66666666666667,
          67.33333333333333,
          51.666666666666664,
          50.666666666666664,
          67,
          68,
          82.66666666666667,
          69.66666666666667,
          78.66666666666667,
          48,
          65,
          53.333333333333336,
          69.33333333333333,
          65.33333333333333,
          87.33333333333333,
          74.66666666666667,
          67.33333333333333,
          68.66666666666667,
          69.33333333333333,
          76.66666666666667,
          53,
          78,
          61.333333333333336,
          62.666666666666664,
          57,
          65.33333333333333,
          76,
          76,
          51.666666666666664,
          88.66666666666667,
          63.666666666666664,
          86,
          66.33333333333333,
          38.666666666666664,
          59,
          85,
          89,
          82,
          74.33333333333333,
          81.33333333333333,
          57.666666666666664,
          46.666666666666664,
          43.666666666666664,
          75.33333333333333,
          58.666666666666664,
          43,
          48,
          48.666666666666664,
          61,
          85,
          75,
          58.666666666666664,
          75,
          52.333333333333336,
          75,
          71.66666666666667,
          67,
          85.66666666666667,
          69.33333333333333,
          68.33333333333333,
          77,
          55.333333333333336,
          55,
          70,
          74.33333333333333,
          81.66666666666667,
          60.666666666666664,
          66,
          58.333333333333336,
          49.666666666666664,
          74,
          63.666666666666664,
          87,
          83.66666666666667,
          64.66666666666667,
          69.66666666666667,
          83.33333333333333,
          70,
          61,
          69.33333333333333,
          76.33333333333333,
          76.66666666666667,
          78,
          54.666666666666664,
          39.333333333333336,
          47,
          82.33333333333333,
          89,
          69,
          50.666666666666664,
          62.333333333333336,
          58.333333333333336,
          60.666666666666664,
          51,
          64.66666666666667,
          56,
          57.666666666666664,
          75.66666666666667,
          86.33333333333333,
          87,
          56,
          74.66666666666667,
          68.33333333333333,
          70,
          60.333333333333336,
          69.33333333333333,
          49,
          77.33333333333333,
          39.666666666666664,
          93.66666666666667,
          84,
          54.666666666666664,
          48,
          74.66666666666667,
          50.333333333333336,
          54.666666666666664,
          81.33333333333333,
          87.33333333333333,
          70,
          82.33333333333333,
          57.333333333333336,
          64.33333333333333,
          48.333333333333336,
          61.666666666666664,
          47.666666666666664,
          79,
          30.666666666666668,
          61.333333333333336,
          86,
          80.66666666666667,
          52,
          68,
          46.666666666666664,
          100,
          92.66666666666667,
          68.66666666666667,
          68,
          71,
          66,
          57.333333333333336,
          44.333333333333336,
          70.33333333333333,
          60.333333333333336,
          68.33333333333333,
          73,
          91.66666666666667,
          63.666666666666664,
          59,
          83.66666666666667,
          71.33333333333333,
          70,
          70.33333333333333,
          61.333333333333336,
          81.33333333333333,
          50.333333333333336,
          79.33333333333333,
          54.666666666666664,
          63.666666666666664,
          84,
          75.66666666666667,
          62.333333333333336,
          66,
          62,
          73,
          60.666666666666664,
          61.666666666666664,
          48,
          79,
          83.33333333333333,
          54,
          77.33333333333333,
          80.66666666666667,
          62.666666666666664,
          57.333333333333336
         ],
         "xaxis": "x",
         "xbins": {
          "size": 2
         },
         "yaxis": "y"
        }
       ],
       "layout": {
        "barmode": "relative",
        "legend": {
         "tracegroupgap": 0
        },
        "margin": {
         "t": 60
        },
        "template": {
         "data": {
          "bar": [
           {
            "error_x": {
             "color": "#2a3f5f"
            },
            "error_y": {
             "color": "#2a3f5f"
            },
            "marker": {
             "line": {
              "color": "#E5ECF6",
              "width": 0.5
             },
             "pattern": {
              "fillmode": "overlay",
              "size": 10,
              "solidity": 0.2
             }
            },
            "type": "bar"
           }
          ],
          "barpolar": [
           {
            "marker": {
             "line": {
              "color": "#E5ECF6",
              "width": 0.5
             },
             "pattern": {
              "fillmode": "overlay",
              "size": 10,
              "solidity": 0.2
             }
            },
            "type": "barpolar"
           }
          ],
          "carpet": [
           {
            "aaxis": {
             "endlinecolor": "#2a3f5f",
             "gridcolor": "white",
             "linecolor": "white",
             "minorgridcolor": "white",
             "startlinecolor": "#2a3f5f"
            },
            "baxis": {
             "endlinecolor": "#2a3f5f",
             "gridcolor": "white",
             "linecolor": "white",
             "minorgridcolor": "white",
             "startlinecolor": "#2a3f5f"
            },
            "type": "carpet"
           }
          ],
          "choropleth": [
           {
            "colorbar": {
             "outlinewidth": 0,
             "ticks": ""
            },
            "type": "choropleth"
           }
          ],
          "contour": [
           {
            "colorbar": {
             "outlinewidth": 0,
             "ticks": ""
            },
            "colorscale": [
             [
              0,
              "#0d0887"
             ],
             [
              0.1111111111111111,
              "#46039f"
             ],
             [
              0.2222222222222222,
              "#7201a8"
             ],
             [
              0.3333333333333333,
              "#9c179e"
             ],
             [
              0.4444444444444444,
              "#bd3786"
             ],
             [
              0.5555555555555556,
              "#d8576b"
             ],
             [
              0.6666666666666666,
              "#ed7953"
             ],
             [
              0.7777777777777778,
              "#fb9f3a"
             ],
             [
              0.8888888888888888,
              "#fdca26"
             ],
             [
              1,
              "#f0f921"
             ]
            ],
            "type": "contour"
           }
          ],
          "contourcarpet": [
           {
            "colorbar": {
             "outlinewidth": 0,
             "ticks": ""
            },
            "type": "contourcarpet"
           }
          ],
          "heatmap": [
           {
            "colorbar": {
             "outlinewidth": 0,
             "ticks": ""
            },
            "colorscale": [
             [
              0,
              "#0d0887"
             ],
             [
              0.1111111111111111,
              "#46039f"
             ],
             [
              0.2222222222222222,
              "#7201a8"
             ],
             [
              0.3333333333333333,
              "#9c179e"
             ],
             [
              0.4444444444444444,
              "#bd3786"
             ],
             [
              0.5555555555555556,
              "#d8576b"
             ],
             [
              0.6666666666666666,
              "#ed7953"
             ],
             [
              0.7777777777777778,
              "#fb9f3a"
             ],
             [
              0.8888888888888888,
              "#fdca26"
             ],
             [
              1,
              "#f0f921"
             ]
            ],
            "type": "heatmap"
           }
          ],
          "heatmapgl": [
           {
            "colorbar": {
             "outlinewidth": 0,
             "ticks": ""
            },
            "colorscale": [
             [
              0,
              "#0d0887"
             ],
             [
              0.1111111111111111,
              "#46039f"
             ],
             [
              0.2222222222222222,
              "#7201a8"
             ],
             [
              0.3333333333333333,
              "#9c179e"
             ],
             [
              0.4444444444444444,
              "#bd3786"
             ],
             [
              0.5555555555555556,
              "#d8576b"
             ],
             [
              0.6666666666666666,
              "#ed7953"
             ],
             [
              0.7777777777777778,
              "#fb9f3a"
             ],
             [
              0.8888888888888888,
              "#fdca26"
             ],
             [
              1,
              "#f0f921"
             ]
            ],
            "type": "heatmapgl"
           }
          ],
          "histogram": [
           {
            "marker": {
             "pattern": {
              "fillmode": "overlay",
              "size": 10,
              "solidity": 0.2
             }
            },
            "type": "histogram"
           }
          ],
          "histogram2d": [
           {
            "colorbar": {
             "outlinewidth": 0,
             "ticks": ""
            },
            "colorscale": [
             [
              0,
              "#0d0887"
             ],
             [
              0.1111111111111111,
              "#46039f"
             ],
             [
              0.2222222222222222,
              "#7201a8"
             ],
             [
              0.3333333333333333,
              "#9c179e"
             ],
             [
              0.4444444444444444,
              "#bd3786"
             ],
             [
              0.5555555555555556,
              "#d8576b"
             ],
             [
              0.6666666666666666,
              "#ed7953"
             ],
             [
              0.7777777777777778,
              "#fb9f3a"
             ],
             [
              0.8888888888888888,
              "#fdca26"
             ],
             [
              1,
              "#f0f921"
             ]
            ],
            "type": "histogram2d"
           }
          ],
          "histogram2dcontour": [
           {
            "colorbar": {
             "outlinewidth": 0,
             "ticks": ""
            },
            "colorscale": [
             [
              0,
              "#0d0887"
             ],
             [
              0.1111111111111111,
              "#46039f"
             ],
             [
              0.2222222222222222,
              "#7201a8"
             ],
             [
              0.3333333333333333,
              "#9c179e"
             ],
             [
              0.4444444444444444,
              "#bd3786"
             ],
             [
              0.5555555555555556,
              "#d8576b"
             ],
             [
              0.6666666666666666,
              "#ed7953"
             ],
             [
              0.7777777777777778,
              "#fb9f3a"
             ],
             [
              0.8888888888888888,
              "#fdca26"
             ],
             [
              1,
              "#f0f921"
             ]
            ],
            "type": "histogram2dcontour"
           }
          ],
          "mesh3d": [
           {
            "colorbar": {
             "outlinewidth": 0,
             "ticks": ""
            },
            "type": "mesh3d"
           }
          ],
          "parcoords": [
           {
            "line": {
             "colorbar": {
              "outlinewidth": 0,
              "ticks": ""
             }
            },
            "type": "parcoords"
           }
          ],
          "pie": [
           {
            "automargin": true,
            "type": "pie"
           }
          ],
          "scatter": [
           {
            "fillpattern": {
             "fillmode": "overlay",
             "size": 10,
             "solidity": 0.2
            },
            "type": "scatter"
           }
          ],
          "scatter3d": [
           {
            "line": {
             "colorbar": {
              "outlinewidth": 0,
              "ticks": ""
             }
            },
            "marker": {
             "colorbar": {
              "outlinewidth": 0,
              "ticks": ""
             }
            },
            "type": "scatter3d"
           }
          ],
          "scattercarpet": [
           {
            "marker": {
             "colorbar": {
              "outlinewidth": 0,
              "ticks": ""
             }
            },
            "type": "scattercarpet"
           }
          ],
          "scattergeo": [
           {
            "marker": {
             "colorbar": {
              "outlinewidth": 0,
              "ticks": ""
             }
            },
            "type": "scattergeo"
           }
          ],
          "scattergl": [
           {
            "marker": {
             "colorbar": {
              "outlinewidth": 0,
              "ticks": ""
             }
            },
            "type": "scattergl"
           }
          ],
          "scattermapbox": [
           {
            "marker": {
             "colorbar": {
              "outlinewidth": 0,
              "ticks": ""
             }
            },
            "type": "scattermapbox"
           }
          ],
          "scatterpolar": [
           {
            "marker": {
             "colorbar": {
              "outlinewidth": 0,
              "ticks": ""
             }
            },
            "type": "scatterpolar"
           }
          ],
          "scatterpolargl": [
           {
            "marker": {
             "colorbar": {
              "outlinewidth": 0,
              "ticks": ""
             }
            },
            "type": "scatterpolargl"
           }
          ],
          "scatterternary": [
           {
            "marker": {
             "colorbar": {
              "outlinewidth": 0,
              "ticks": ""
             }
            },
            "type": "scatterternary"
           }
          ],
          "surface": [
           {
            "colorbar": {
             "outlinewidth": 0,
             "ticks": ""
            },
            "colorscale": [
             [
              0,
              "#0d0887"
             ],
             [
              0.1111111111111111,
              "#46039f"
             ],
             [
              0.2222222222222222,
              "#7201a8"
             ],
             [
              0.3333333333333333,
              "#9c179e"
             ],
             [
              0.4444444444444444,
              "#bd3786"
             ],
             [
              0.5555555555555556,
              "#d8576b"
             ],
             [
              0.6666666666666666,
              "#ed7953"
             ],
             [
              0.7777777777777778,
              "#fb9f3a"
             ],
             [
              0.8888888888888888,
              "#fdca26"
             ],
             [
              1,
              "#f0f921"
             ]
            ],
            "type": "surface"
           }
          ],
          "table": [
           {
            "cells": {
             "fill": {
              "color": "#EBF0F8"
             },
             "line": {
              "color": "white"
             }
            },
            "header": {
             "fill": {
              "color": "#C8D4E3"
             },
             "line": {
              "color": "white"
             }
            },
            "type": "table"
           }
          ]
         },
         "layout": {
          "annotationdefaults": {
           "arrowcolor": "#2a3f5f",
           "arrowhead": 0,
           "arrowwidth": 1
          },
          "autotypenumbers": "strict",
          "coloraxis": {
           "colorbar": {
            "outlinewidth": 0,
            "ticks": ""
           }
          },
          "colorscale": {
           "diverging": [
            [
             0,
             "#8e0152"
            ],
            [
             0.1,
             "#c51b7d"
            ],
            [
             0.2,
             "#de77ae"
            ],
            [
             0.3,
             "#f1b6da"
            ],
            [
             0.4,
             "#fde0ef"
            ],
            [
             0.5,
             "#f7f7f7"
            ],
            [
             0.6,
             "#e6f5d0"
            ],
            [
             0.7,
             "#b8e186"
            ],
            [
             0.8,
             "#7fbc41"
            ],
            [
             0.9,
             "#4d9221"
            ],
            [
             1,
             "#276419"
            ]
           ],
           "sequential": [
            [
             0,
             "#0d0887"
            ],
            [
             0.1111111111111111,
             "#46039f"
            ],
            [
             0.2222222222222222,
             "#7201a8"
            ],
            [
             0.3333333333333333,
             "#9c179e"
            ],
            [
             0.4444444444444444,
             "#bd3786"
            ],
            [
             0.5555555555555556,
             "#d8576b"
            ],
            [
             0.6666666666666666,
             "#ed7953"
            ],
            [
             0.7777777777777778,
             "#fb9f3a"
            ],
            [
             0.8888888888888888,
             "#fdca26"
            ],
            [
             1,
             "#f0f921"
            ]
           ],
           "sequentialminus": [
            [
             0,
             "#0d0887"
            ],
            [
             0.1111111111111111,
             "#46039f"
            ],
            [
             0.2222222222222222,
             "#7201a8"
            ],
            [
             0.3333333333333333,
             "#9c179e"
            ],
            [
             0.4444444444444444,
             "#bd3786"
            ],
            [
             0.5555555555555556,
             "#d8576b"
            ],
            [
             0.6666666666666666,
             "#ed7953"
            ],
            [
             0.7777777777777778,
             "#fb9f3a"
            ],
            [
             0.8888888888888888,
             "#fdca26"
            ],
            [
             1,
             "#f0f921"
            ]
           ]
          },
          "colorway": [
           "#636efa",
           "#EF553B",
           "#00cc96",
           "#ab63fa",
           "#FFA15A",
           "#19d3f3",
           "#FF6692",
           "#B6E880",
           "#FF97FF",
           "#FECB52"
          ],
          "font": {
           "color": "#2a3f5f"
          },
          "geo": {
           "bgcolor": "white",
           "lakecolor": "white",
           "landcolor": "#E5ECF6",
           "showlakes": true,
           "showland": true,
           "subunitcolor": "white"
          },
          "hoverlabel": {
           "align": "left"
          },
          "hovermode": "closest",
          "mapbox": {
           "style": "light"
          },
          "paper_bgcolor": "white",
          "plot_bgcolor": "#E5ECF6",
          "polar": {
           "angularaxis": {
            "gridcolor": "white",
            "linecolor": "white",
            "ticks": ""
           },
           "bgcolor": "#E5ECF6",
           "radialaxis": {
            "gridcolor": "white",
            "linecolor": "white",
            "ticks": ""
           }
          },
          "scene": {
           "xaxis": {
            "backgroundcolor": "#E5ECF6",
            "gridcolor": "white",
            "gridwidth": 2,
            "linecolor": "white",
            "showbackground": true,
            "ticks": "",
            "zerolinecolor": "white"
           },
           "yaxis": {
            "backgroundcolor": "#E5ECF6",
            "gridcolor": "white",
            "gridwidth": 2,
            "linecolor": "white",
            "showbackground": true,
            "ticks": "",
            "zerolinecolor": "white"
           },
           "zaxis": {
            "backgroundcolor": "#E5ECF6",
            "gridcolor": "white",
            "gridwidth": 2,
            "linecolor": "white",
            "showbackground": true,
            "ticks": "",
            "zerolinecolor": "white"
           }
          },
          "shapedefaults": {
           "line": {
            "color": "#2a3f5f"
           }
          },
          "ternary": {
           "aaxis": {
            "gridcolor": "white",
            "linecolor": "white",
            "ticks": ""
           },
           "baxis": {
            "gridcolor": "white",
            "linecolor": "white",
            "ticks": ""
           },
           "bgcolor": "#E5ECF6",
           "caxis": {
            "gridcolor": "white",
            "linecolor": "white",
            "ticks": ""
           }
          },
          "title": {
           "x": 0.05
          },
          "xaxis": {
           "automargin": true,
           "gridcolor": "white",
           "linecolor": "white",
           "ticks": "",
           "title": {
            "standoff": 15
           },
           "zerolinecolor": "white",
           "zerolinewidth": 2
          },
          "yaxis": {
           "automargin": true,
           "gridcolor": "white",
           "linecolor": "white",
           "ticks": "",
           "title": {
            "standoff": 15
           },
           "zerolinecolor": "white",
           "zerolinewidth": 2
          }
         }
        },
        "width": 800,
        "xaxis": {
         "anchor": "y",
         "domain": [
          0,
          1
         ],
         "title": {
          "text": "overall_score"
         }
        },
        "yaxis": {
         "anchor": "x",
         "domain": [
          0,
          1
         ],
         "title": {
          "text": "count"
         }
        }
       }
      }
     },
     "metadata": {},
     "output_type": "display_data"
    },
    {
     "name": "stdout",
     "output_type": "stream",
     "text": [
      "31733.666666666668\n"
     ]
    },
    {
     "data": {
      "image/png": "[encoded data removed]",
      "text/plain": [
       "<Figure size 640x480 with 1 Axes>"
      ]
     },
     "metadata": {},
     "output_type": "display_data"
    }
   ],
   "source": [
    "dfm = df['overall_score'].loc[df['gender'] == 'male']\n",
    "dfm.plot.hist(bins=30)\n",
    "\n",
    "g = px.histogram(dfm, x = 'overall_score', width=800, nbins=30)\n",
    "g.update_traces(xbins=dict(size=2)) #bin_width\n",
    "g.show()\n",
    "print(dfm.sum())"
   ]
  },
  {
   "cell_type": "code",
   "execution_count": null,
   "metadata": {},
   "outputs": [
    {
     "data": {
      "image/png": "[encoded data removed]",
      "text/plain": [
       "<Figure size 640x480 with 1 Axes>"
      ]
     },
     "metadata": {},
     "output_type": "display_data"
    },
    {
     "data": {
      "application/vnd.plotly.v1+json": {
       "config": {
        "plotlyServerURL": "https://plot.ly"
       },
       "data": [
        {
         "alignmentgroup": "True",
         "bingroup": "x",
         "hovertemplate": "gender=female<br>overall_score=%{x}<br>count=%{y}<extra></extra>",
         "legendgroup": "female",
         "marker": {
          "color": "#636efa",
          "opacity": 0.5,
          "pattern": {
           "shape": ""
          }
         },
         "name": "female",
         "offsetgroup": "female",
         "orientation": "v",
         "showlegend": true,
         "type": "histogram",
         "x": [
          72.66666666666667,
          82.33333333333333,
          92.66666666666667,
          77.33333333333333,
          91.66666666666667,
          49.333333333333336,
          73,
          53.666666666666664,
          74,
          26,
          57.666666666666664,
          70,
          71.66666666666667,
          70.33333333333333,
          69,
          72.33333333333333,
          63,
          64.33333333333333,
          79.33333333333333,
          57.666666666666664,
          84.33333333333333,
          66.33333333333333,
          58.666666666666664,
          53.333333333333336,
          60.666666666666664,
          71,
          69,
          80.66666666666667,
          39,
          84.33333333333333,
          9,
          73.33333333333333,
          58.666666666666664,
          68.66666666666667,
          53.333333333333336,
          64.66666666666667,
          46.666666666666664,
          69,
          66,
          48.666666666666664,
          78.33333333333333,
          82.33333333333333,
          72,
          65,
          80.33333333333333,
          70.33333333333333,
          85.66666666666667,
          68.33333333333333,
          62.333333333333336,
          64.66666666666667,
          88.33333333333333,
          65.66666666666667,
          95.66666666666667,
          66,
          68.66666666666667,
          88,
          54.333333333333336,
          99.66666666666667,
          80.66666666666667,
          79.66666666666667,
          58.333333333333336,
          63,
          86.66666666666667,
          91.33333333333333,
          89.33333333333333,
          50.333333333333336,
          80,
          64,
          73,
          61.666666666666664,
          50.333333333333336,
          31.333333333333332,
          74.66666666666667,
          65,
          82.33333333333333,
          72.66666666666667,
          78,
          82.66666666666667,
          88,
          98.66666666666667,
          70.66666666666667,
          76.33333333333333,
          70.66666666666667,
          82,
          66.66666666666667,
          49.333333333333336,
          86.33333333333333,
          52.666666666666664,
          75,
          61.333333333333336,
          99,
          58.666666666666664,
          49,
          68,
          84,
          66.66666666666667,
          64,
          79.33333333333333,
          51,
          77.66666666666667,
          79,
          74.33333333333333,
          64.66666666666667,
          77,
          61.666666666666664,
          54.666666666666664,
          85.66666666666667,
          38.333333333333336,
          66,
          60.666666666666664,
          63.666666666666664,
          51.666666666666664,
          71.66666666666667,
          92.33333333333333,
          78.66666666666667,
          66,
          82,
          54.333333333333336,
          65.33333333333333,
          63.666666666666664,
          79,
          66.66666666666667,
          68.33333333333333,
          68.33333333333333,
          74.33333333333333,
          75.66666666666667,
          73.33333333333333,
          48.333333333333336,
          94,
          73,
          72.66666666666667,
          91.66666666666667,
          72.33333333333333,
          52.666666666666664,
          68.66666666666667,
          90,
          65.66666666666667,
          77,
          78.66666666666667,
          75.33333333333333,
          43,
          79.33333333333333,
          71,
          77.33333333333333,
          77.33333333333333,
          63.666666666666664,
          52.666666666666664,
          76.33333333333333,
          68,
          66,
          83.33333333333333,
          61.333333333333336,
          76.66666666666667,
          80,
          77.33333333333333,
          49.666666666666664,
          43.333333333333336,
          88.66666666666667,
          49,
          90.33333333333333,
          65,
          29.666666666666668,
          50,
          65.66666666666667,
          73,
          75.66666666666667,
          88.66666666666667,
          62,
          73.66666666666667,
          53.666666666666664,
          66.66666666666667,
          67.66666666666667,
          59,
          86.33333333333333,
          59.666666666666664,
          56,
          31,
          55.333333333333336,
          80.66666666666667,
          62.666666666666664,
          91.66666666666667,
          67.33333333333333,
          84,
          93.33333333333333,
          77,
          83,
          44,
          41.333333333333336,
          72.66666666666667,
          69,
          67.33333333333333,
          63.333333333333336,
          74,
          72,
          60,
          89.66666666666667,
          60,
          56.333333333333336,
          95.66666666666667,
          58.333333333333336,
          68,
          79.66666666666667,
          55,
          71.66666666666667,
          67.33333333333333,
          89.33333333333333,
          59.666666666666664,
          57.333333333333336,
          74.66666666666667,
          63.666666666666664,
          67.66666666666667,
          52,
          75.66666666666667,
          79.66666666666667,
          67,
          77.33333333333333,
          72.66666666666667,
          78,
          96.33333333333333,
          72,
          58.666666666666664,
          85.66666666666667,
          100,
          72.33333333333333,
          86,
          87.33333333333333,
          31.666666666666668,
          83.33333333333333,
          86,
          68.66666666666667,
          79.33333333333333,
          62.333333333333336,
          90.33333333333333,
          76.66666666666667,
          63,
          55.666666666666664,
          51.666666666666664,
          69.66666666666667,
          75.33333333333333,
          66,
          85.33333333333333,
          86.33333333333333,
          62,
          51.333333333333336,
          71,
          67.66666666666667,
          78.33333333333333,
          91,
          92,
          51,
          81.33333333333333,
          88.33333333333333,
          59,
          89.33333333333333,
          82.66666666666667,
          82.33333333333333,
          71,
          74,
          74.66666666666667,
          87,
          44,
          39,
          68.66666666666667,
          69.33333333333333,
          51.333333333333336,
          87,
          77.33333333333333,
          59.666666666666664,
          79,
          88.66666666666667,
          64.33333333333333,
          96.33333333333333,
          64.33333333333333,
          46,
          34.666666666666664,
          68.66666666666667,
          64.33333333333333,
          76,
          70.33333333333333,
          74.33333333333333,
          97.33333333333333,
          70,
          57,
          60,
          75.33333333333333,
          87,
          54,
          60.666666666666664,
          91.33333333333333,
          78.66666666666667,
          71.33333333333333,
          76,
          74.33333333333333,
          72.33333333333333,
          67,
          56.333333333333336,
          61,
          59.666666666666664,
          74.33333333333333,
          97,
          69,
          73,
          76,
          59,
          29.333333333333332,
          78,
          83.66666666666667,
          50.666666666666664,
          62.333333333333336,
          62,
          61,
          72,
          89.33333333333333,
          66.66666666666667,
          40,
          50,
          60.333333333333336,
          50,
          73.66666666666667,
          82.66666666666667,
          76,
          86.66666666666667,
          74.33333333333333,
          84,
          77.33333333333333,
          77.66666666666667,
          75.66666666666667,
          64.66666666666667,
          64.66666666666667,
          52.666666666666664,
          76.33333333333333,
          74.66666666666667,
          89.66666666666667,
          69.66666666666667,
          77,
          65.33333333333333,
          53.666666666666664,
          65,
          67,
          56.666666666666664,
          69,
          83,
          70,
          74.33333333333333,
          77.66666666666667,
          74.66666666666667,
          60,
          75.66666666666667,
          76,
          71,
          37.666666666666664,
          97.66666666666667,
          51.666666666666664,
          75.66666666666667,
          73.66666666666667,
          75.66666666666667,
          56,
          84.66666666666667,
          82.33333333333333,
          67,
          71.33333333333333,
          80.66666666666667,
          65.33333333333333,
          64.66666666666667,
          62,
          53.666666666666664,
          83.33333333333333,
          99,
          68,
          85.66666666666667,
          97,
          75.33333333333333,
          68,
          84,
          72.33333333333333,
          83,
          75,
          90,
          56,
          64,
          50,
          82.33333333333333,
          68,
          56.333333333333336,
          84,
          90.33333333333333,
          58.666666666666664,
          63,
          53.333333333333336,
          62.333333333333336,
          72.66666666666667,
          70,
          71.33333333333333,
          63.666666666666664,
          73,
          54,
          69.33333333333333,
          40.666666666666664,
          77.66666666666667,
          53,
          83.66666666666667,
          81,
          57.666666666666664,
          42.333333333333336,
          76,
          29.666666666666668,
          59.333333333333336,
          56.666666666666664,
          65.33333333333333,
          48.333333333333336,
          66,
          78.33333333333333,
          54.666666666666664,
          92,
          84.66666666666667,
          75.66666666666667,
          71,
          42,
          61.666666666666664,
          78.33333333333333,
          56,
          66.66666666666667,
          85.33333333333333,
          89,
          87,
          80,
          52.666666666666664,
          64.66666666666667,
          70,
          78.66666666666667,
          59.333333333333336,
          83,
          82.66666666666667,
          66,
          78.66666666666667,
          72,
          45.666666666666664,
          34.333333333333336,
          56.333333333333336,
          66.33333333333333,
          64,
          88.33333333333333,
          96.66666666666667,
          75,
          56,
          84.66666666666667,
          74,
          72.66666666666667,
          55.333333333333336,
          70.33333333333333,
          71.33333333333333,
          70.33333333333333,
          69.33333333333333,
          52,
          72.66666666666667,
          96,
          69.33333333333333,
          87.33333333333333,
          87.33333333333333,
          63.333333333333336,
          63.333333333333336,
          34.666666666666664,
          73.33333333333333,
          75,
          75,
          41,
          97.66666666666667,
          78.33333333333333,
          84.66666666666667,
          71.33333333333333,
          78.33333333333333,
          59.666666666666664,
          58.333333333333336,
          54,
          68,
          52.333333333333336,
          71.33333333333333,
          44.666666666666664,
          61.333333333333336,
          65.66666666666667,
          51.666666666666664,
          57.333333333333336,
          88.33333333333333,
          62.333333333333336,
          57.666666666666664,
          55.666666666666664,
          68.33333333333333,
          78.33333333333333,
          73.33333333333333,
          66.66666666666667,
          97.33333333333333,
          55.666666666666664,
          59.333333333333336,
          51.666666666666664,
          100,
          72,
          68,
          70.33333333333333,
          79.66666666666667,
          96.33333333333333,
          54.333333333333336,
          58.333333333333336,
          61.333333333333336,
          74.33333333333333,
          93.33333333333333,
          18.333333333333332,
          85.33333333333333,
          77,
          50,
          44.666666666666664,
          78.66666666666667,
          75,
          69,
          69.33333333333333,
          94,
          65,
          74.33333333333333,
          83
         ],
         "xaxis": "x",
         "yaxis": "y"
        },
        {
         "alignmentgroup": "True",
         "bingroup": "x",
         "hovertemplate": "gender=male<br>overall_score=%{x}<br>count=%{y}<extra></extra>",
         "legendgroup": "male",
         "marker": {
          "color": "#EF553B",
          "opacity": 0.5,
          "pattern": {
           "shape": ""
          }
         },
         "name": "male",
         "offsetgroup": "male",
         "orientation": "v",
         "showlegend": true,
         "type": "histogram",
         "x": [
          49.333333333333336,
          76.33333333333333,
          40.666666666666664,
          65,
          54.666666666666664,
          45,
          73.33333333333333,
          87.66666666666667,
          44.666666666666664,
          66,
          50.333333333333336,
          75,
          73,
          59.333333333333336,
          68.33333333333333,
          40,
          88.66666666666667,
          80.33333333333333,
          56.666666666666664,
          56.666666666666664,
          63.333333333333336,
          58.666666666666664,
          82.66666666666667,
          52,
          71.33333333333333,
          46.333333333333336,
          80.33333333333333,
          52,
          58.333333333333336,
          75,
          37.333333333333336,
          59.333333333333336,
          64,
          39.666666666666664,
          58.333333333333336,
          60.333333333333336,
          58,
          46.333333333333336,
          41,
          26,
          79.66666666666667,
          46.333333333333336,
          50.333333333333336,
          66.33333333333333,
          38.333333333333336,
          32.333333333333336,
          73.66666666666667,
          46,
          80.33333333333333,
          64.33333333333333,
          71,
          72,
          50.333333333333336,
          91.33333333333333,
          64.33333333333333,
          55.333333333333336,
          51.333333333333336,
          78.33333333333333,
          90.66666666666667,
          58.666666666666664,
          78.66666666666667,
          69,
          72,
          79.33333333333333,
          85,
          43.333333333333336,
          77,
          76,
          53.666666666666664,
          48.666666666666664,
          60.333333333333336,
          67,
          49,
          79.66666666666667,
          82.33333333333333,
          69,
          97.66666666666667,
          66,
          70.66666666666667,
          50,
          63.333333333333336,
          60,
          64,
          78,
          51.333333333333336,
          51.333333333333336,
          51.666666666666664,
          73,
          86.66666666666667,
          68.33333333333333,
          48.666666666666664,
          65.66666666666667,
          73.66666666666667,
          65.33333333333333,
          48.333333333333336,
          79.33333333333333,
          67,
          56,
          64.33333333333333,
          54,
          71.66666666666667,
          47.333333333333336,
          74.33333333333333,
          68.66666666666667,
          79,
          79.33333333333333,
          30,
          55.666666666666664,
          86.33333333333333,
          80.66666666666667,
          71,
          57.666666666666664,
          81.66666666666667,
          80.33333333333333,
          53.666666666666664,
          68,
          68.66666666666667,
          43.666666666666664,
          85.66666666666667,
          83,
          77.33333333333333,
          65.33333333333333,
          52.333333333333336,
          81.33333333333333,
          69,
          51,
          72.66666666666667,
          77.33333333333333,
          79.66666666666667,
          60.333333333333336,
          48.333333333333336,
          77.33333333333333,
          52.666666666666664,
          77.33333333333333,
          78.66666666666667,
          72.33333333333333,
          47.333333333333336,
          64.33333333333333,
          49.666666666666664,
          83,
          78,
          62,
          49,
          46.333333333333336,
          81.66666666666667,
          89,
          79.66666666666667,
          76.66666666666667,
          71.33333333333333,
          76.33333333333333,
          60,
          78.33333333333333,
          63,
          43.333333333333336,
          71,
          45.333333333333336,
          84,
          80,
          54,
          73.33333333333333,
          68.33333333333333,
          89,
          49,
          61,
          65.33333333333333,
          67.33333333333333,
          77.66666666666667,
          67.66666666666667,
          61.333333333333336,
          23.333333333333332,
          78,
          64,
          39.666666666666664,
          57,
          83,
          71.66666666666667,
          47.666666666666664,
          57,
          68.66666666666667,
          73,
          60,
          71.66666666666667,
          79,
          58.333333333333336,
          61.666666666666664,
          60.666666666666664,
          82.33333333333333,
          59,
          55.666666666666664,
          60,
          62.666666666666664,
          77.33333333333333,
          73.33333333333333,
          43.333333333333336,
          64,
          94,
          77,
          72.66666666666667,
          66.33333333333333,
          70,
          55.666666666666664,
          44.666666666666664,
          64.66666666666667,
          57.666666666666664,
          46.333333333333336,
          64.33333333333333,
          85.33333333333333,
          81.66666666666667,
          65.66666666666667,
          65.66666666666667,
          75.33333333333333,
          71,
          71.33333333333333,
          63,
          55.666666666666664,
          38,
          85,
          68.33333333333333,
          59,
          61.666666666666664,
          63,
          57.333333333333336,
          68.33333333333333,
          50.333333333333336,
          69,
          71.33333333333333,
          59,
          86.33333333333333,
          78,
          65,
          82.33333333333333,
          45,
          75.33333333333333,
          57.333333333333336,
          46.666666666666664,
          51.666666666666664,
          68.33333333333333,
          55.333333333333336,
          51,
          65,
          68,
          80.33333333333333,
          68,
          73.33333333333333,
          71.33333333333333,
          70.66666666666667,
          65.66666666666667,
          52.333333333333336,
          71.66666666666667,
          54.666666666666664,
          58,
          81,
          66,
          73,
          59.333333333333336,
          68,
          56,
          78,
          73.33333333333333,
          52.333333333333336,
          54.333333333333336,
          57.333333333333336,
          61.333333333333336,
          54.333333333333336,
          51.333333333333336,
          62.333333333333336,
          59,
          60.333333333333336,
          70,
          56.333333333333336,
          74,
          91.66666666666667,
          70.66666666666667,
          80.33333333333333,
          80.33333333333333,
          67.66666666666667,
          73.33333333333333,
          73.33333333333333,
          88.33333333333333,
          67.66666666666667,
          46,
          64.66666666666667,
          67,
          92.66666666666667,
          48.333333333333336,
          45.333333333333336,
          52.666666666666664,
          67.66666666666667,
          72,
          93,
          49.333333333333336,
          54.666666666666664,
          56.333333333333336,
          61,
          66.66666666666667,
          23,
          51.666666666666664,
          56,
          87.66666666666667,
          69.66666666666667,
          64,
          91.66666666666667,
          83,
          86.66666666666667,
          68.66666666666667,
          60.333333333333336,
          53.666666666666664,
          94,
          98.66666666666667,
          67.33333333333333,
          51.666666666666664,
          50.666666666666664,
          67,
          68,
          82.66666666666667,
          69.66666666666667,
          78.66666666666667,
          48,
          65,
          53.333333333333336,
          69.33333333333333,
          65.33333333333333,
          87.33333333333333,
          74.66666666666667,
          67.33333333333333,
          68.66666666666667,
          69.33333333333333,
          76.66666666666667,
          53,
          78,
          61.333333333333336,
          62.666666666666664,
          57,
          65.33333333333333,
          76,
          76,
          51.666666666666664,
          88.66666666666667,
          63.666666666666664,
          86,
          66.33333333333333,
          38.666666666666664,
          59,
          85,
          89,
          82,
          74.33333333333333,
          81.33333333333333,
          57.666666666666664,
          46.666666666666664,
          43.666666666666664,
          75.33333333333333,
          58.666666666666664,
          43,
          48,
          48.666666666666664,
          61,
          85,
          75,
          58.666666666666664,
          75,
          52.333333333333336,
          75,
          71.66666666666667,
          67,
          85.66666666666667,
          69.33333333333333,
          68.33333333333333,
          77,
          55.333333333333336,
          55,
          70,
          74.33333333333333,
          81.66666666666667,
          60.666666666666664,
          66,
          58.333333333333336,
          49.666666666666664,
          74,
          63.666666666666664,
          87,
          83.66666666666667,
          64.66666666666667,
          69.66666666666667,
          83.33333333333333,
          70,
          61,
          69.33333333333333,
          76.33333333333333,
          76.66666666666667,
          78,
          54.666666666666664,
          39.333333333333336,
          47,
          82.33333333333333,
          89,
          69,
          50.666666666666664,
          62.333333333333336,
          58.333333333333336,
          60.666666666666664,
          51,
          64.66666666666667,
          56,
          57.666666666666664,
          75.66666666666667,
          86.33333333333333,
          87,
          56,
          74.66666666666667,
          68.33333333333333,
          70,
          60.333333333333336,
          69.33333333333333,
          49,
          77.33333333333333,
          39.666666666666664,
          93.66666666666667,
          84,
          54.666666666666664,
          48,
          74.66666666666667,
          50.333333333333336,
          54.666666666666664,
          81.33333333333333,
          87.33333333333333,
          70,
          82.33333333333333,
          57.333333333333336,
          64.33333333333333,
          48.333333333333336,
          61.666666666666664,
          47.666666666666664,
          79,
          30.666666666666668,
          61.333333333333336,
          86,
          80.66666666666667,
          52,
          68,
          46.666666666666664,
          100,
          92.66666666666667,
          68.66666666666667,
          68,
          71,
          66,
          57.333333333333336,
          44.333333333333336,
          70.33333333333333,
          60.333333333333336,
          68.33333333333333,
          73,
          91.66666666666667,
          63.666666666666664,
          59,
          83.66666666666667,
          71.33333333333333,
          70,
          70.33333333333333,
          61.333333333333336,
          81.33333333333333,
          50.333333333333336,
          79.33333333333333,
          54.666666666666664,
          63.666666666666664,
          84,
          75.66666666666667,
          62.333333333333336,
          66,
          62,
          73,
          60.666666666666664,
          61.666666666666664,
          48,
          79,
          83.33333333333333,
          54,
          77.33333333333333,
          80.66666666666667,
          62.666666666666664,
          57.333333333333336
         ],
         "xaxis": "x",
         "yaxis": "y"
        }
       ],
       "layout": {
        "barmode": "overlay",
        "legend": {
         "title": {
          "text": "gender"
         },
         "tracegroupgap": 0
        },
        "margin": {
         "t": 60
        },
        "template": {
         "data": {
          "bar": [
           {
            "error_x": {
             "color": "#2a3f5f"
            },
            "error_y": {
             "color": "#2a3f5f"
            },
            "marker": {
             "line": {
              "color": "#E5ECF6",
              "width": 0.5
             },
             "pattern": {
              "fillmode": "overlay",
              "size": 10,
              "solidity": 0.2
             }
            },
            "type": "bar"
           }
          ],
          "barpolar": [
           {
            "marker": {
             "line": {
              "color": "#E5ECF6",
              "width": 0.5
             },
             "pattern": {
              "fillmode": "overlay",
              "size": 10,
              "solidity": 0.2
             }
            },
            "type": "barpolar"
           }
          ],
          "carpet": [
           {
            "aaxis": {
             "endlinecolor": "#2a3f5f",
             "gridcolor": "white",
             "linecolor": "white",
             "minorgridcolor": "white",
             "startlinecolor": "#2a3f5f"
            },
            "baxis": {
             "endlinecolor": "#2a3f5f",
             "gridcolor": "white",
             "linecolor": "white",
             "minorgridcolor": "white",
             "startlinecolor": "#2a3f5f"
            },
            "type": "carpet"
           }
          ],
          "choropleth": [
           {
            "colorbar": {
             "outlinewidth": 0,
             "ticks": ""
            },
            "type": "choropleth"
           }
          ],
          "contour": [
           {
            "colorbar": {
             "outlinewidth": 0,
             "ticks": ""
            },
            "colorscale": [
             [
              0,
              "#0d0887"
             ],
             [
              0.1111111111111111,
              "#46039f"
             ],
             [
              0.2222222222222222,
              "#7201a8"
             ],
             [
              0.3333333333333333,
              "#9c179e"
             ],
             [
              0.4444444444444444,
              "#bd3786"
             ],
             [
              0.5555555555555556,
              "#d8576b"
             ],
             [
              0.6666666666666666,
              "#ed7953"
             ],
             [
              0.7777777777777778,
              "#fb9f3a"
             ],
             [
              0.8888888888888888,
              "#fdca26"
             ],
             [
              1,
              "#f0f921"
             ]
            ],
            "type": "contour"
           }
          ],
          "contourcarpet": [
           {
            "colorbar": {
             "outlinewidth": 0,
             "ticks": ""
            },
            "type": "contourcarpet"
           }
          ],
          "heatmap": [
           {
            "colorbar": {
             "outlinewidth": 0,
             "ticks": ""
            },
            "colorscale": [
             [
              0,
              "#0d0887"
             ],
             [
              0.1111111111111111,
              "#46039f"
             ],
             [
              0.2222222222222222,
              "#7201a8"
             ],
             [
              0.3333333333333333,
              "#9c179e"
             ],
             [
              0.4444444444444444,
              "#bd3786"
             ],
             [
              0.5555555555555556,
              "#d8576b"
             ],
             [
              0.6666666666666666,
              "#ed7953"
             ],
             [
              0.7777777777777778,
              "#fb9f3a"
             ],
             [
              0.8888888888888888,
              "#fdca26"
             ],
             [
              1,
              "#f0f921"
             ]
            ],
            "type": "heatmap"
           }
          ],
          "heatmapgl": [
           {
            "colorbar": {
             "outlinewidth": 0,
             "ticks": ""
            },
            "colorscale": [
             [
              0,
              "#0d0887"
             ],
             [
              0.1111111111111111,
              "#46039f"
             ],
             [
              0.2222222222222222,
              "#7201a8"
             ],
             [
              0.3333333333333333,
              "#9c179e"
             ],
             [
              0.4444444444444444,
              "#bd3786"
             ],
             [
              0.5555555555555556,
              "#d8576b"
             ],
             [
              0.6666666666666666,
              "#ed7953"
             ],
             [
              0.7777777777777778,
              "#fb9f3a"
             ],
             [
              0.8888888888888888,
              "#fdca26"
             ],
             [
              1,
              "#f0f921"
             ]
            ],
            "type": "heatmapgl"
           }
          ],
          "histogram": [
           {
            "marker": {
             "pattern": {
              "fillmode": "overlay",
              "size": 10,
              "solidity": 0.2
             }
            },
            "type": "histogram"
           }
          ],
          "histogram2d": [
           {
            "colorbar": {
             "outlinewidth": 0,
             "ticks": ""
            },
            "colorscale": [
             [
              0,
              "#0d0887"
             ],
             [
              0.1111111111111111,
              "#46039f"
             ],
             [
              0.2222222222222222,
              "#7201a8"
             ],
             [
              0.3333333333333333,
              "#9c179e"
             ],
             [
              0.4444444444444444,
              "#bd3786"
             ],
             [
              0.5555555555555556,
              "#d8576b"
             ],
             [
              0.6666666666666666,
              "#ed7953"
             ],
             [
              0.7777777777777778,
              "#fb9f3a"
             ],
             [
              0.8888888888888888,
              "#fdca26"
             ],
             [
              1,
              "#f0f921"
             ]
            ],
            "type": "histogram2d"
           }
          ],
          "histogram2dcontour": [
           {
            "colorbar": {
             "outlinewidth": 0,
             "ticks": ""
            },
            "colorscale": [
             [
              0,
              "#0d0887"
             ],
             [
              0.1111111111111111,
              "#46039f"
             ],
             [
              0.2222222222222222,
              "#7201a8"
             ],
             [
              0.3333333333333333,
              "#9c179e"
             ],
             [
              0.4444444444444444,
              "#bd3786"
             ],
             [
              0.5555555555555556,
              "#d8576b"
             ],
             [
              0.6666666666666666,
              "#ed7953"
             ],
             [
              0.7777777777777778,
              "#fb9f3a"
             ],
             [
              0.8888888888888888,
              "#fdca26"
             ],
             [
              1,
              "#f0f921"
             ]
            ],
            "type": "histogram2dcontour"
           }
          ],
          "mesh3d": [
           {
            "colorbar": {
             "outlinewidth": 0,
             "ticks": ""
            },
            "type": "mesh3d"
           }
          ],
          "parcoords": [
           {
            "line": {
             "colorbar": {
              "outlinewidth": 0,
              "ticks": ""
             }
            },
            "type": "parcoords"
           }
          ],
          "pie": [
           {
            "automargin": true,
            "type": "pie"
           }
          ],
          "scatter": [
           {
            "fillpattern": {
             "fillmode": "overlay",
             "size": 10,
             "solidity": 0.2
            },
            "type": "scatter"
           }
          ],
          "scatter3d": [
           {
            "line": {
             "colorbar": {
              "outlinewidth": 0,
              "ticks": ""
             }
            },
            "marker": {
             "colorbar": {
              "outlinewidth": 0,
              "ticks": ""
             }
            },
            "type": "scatter3d"
           }
          ],
          "scattercarpet": [
           {
            "marker": {
             "colorbar": {
              "outlinewidth": 0,
              "ticks": ""
             }
            },
            "type": "scattercarpet"
           }
          ],
          "scattergeo": [
           {
            "marker": {
             "colorbar": {
              "outlinewidth": 0,
              "ticks": ""
             }
            },
            "type": "scattergeo"
           }
          ],
          "scattergl": [
           {
            "marker": {
             "colorbar": {
              "outlinewidth": 0,
              "ticks": ""
             }
            },
            "type": "scattergl"
           }
          ],
          "scattermapbox": [
           {
            "marker": {
             "colorbar": {
              "outlinewidth": 0,
              "ticks": ""
             }
            },
            "type": "scattermapbox"
           }
          ],
          "scatterpolar": [
           {
            "marker": {
             "colorbar": {
              "outlinewidth": 0,
              "ticks": ""
             }
            },
            "type": "scatterpolar"
           }
          ],
          "scatterpolargl": [
           {
            "marker": {
             "colorbar": {
              "outlinewidth": 0,
              "ticks": ""
             }
            },
            "type": "scatterpolargl"
           }
          ],
          "scatterternary": [
           {
            "marker": {
             "colorbar": {
              "outlinewidth": 0,
              "ticks": ""
             }
            },
            "type": "scatterternary"
           }
          ],
          "surface": [
           {
            "colorbar": {
             "outlinewidth": 0,
             "ticks": ""
            },
            "colorscale": [
             [
              0,
              "#0d0887"
             ],
             [
              0.1111111111111111,
              "#46039f"
             ],
             [
              0.2222222222222222,
              "#7201a8"
             ],
             [
              0.3333333333333333,
              "#9c179e"
             ],
             [
              0.4444444444444444,
              "#bd3786"
             ],
             [
              0.5555555555555556,
              "#d8576b"
             ],
             [
              0.6666666666666666,
              "#ed7953"
             ],
             [
              0.7777777777777778,
              "#fb9f3a"
             ],
             [
              0.8888888888888888,
              "#fdca26"
             ],
             [
              1,
              "#f0f921"
             ]
            ],
            "type": "surface"
           }
          ],
          "table": [
           {
            "cells": {
             "fill": {
              "color": "#EBF0F8"
             },
             "line": {
              "color": "white"
             }
            },
            "header": {
             "fill": {
              "color": "#C8D4E3"
             },
             "line": {
              "color": "white"
             }
            },
            "type": "table"
           }
          ]
         },
         "layout": {
          "annotationdefaults": {
           "arrowcolor": "#2a3f5f",
           "arrowhead": 0,
           "arrowwidth": 1
          },
          "autotypenumbers": "strict",
          "coloraxis": {
           "colorbar": {
            "outlinewidth": 0,
            "ticks": ""
           }
          },
          "colorscale": {
           "diverging": [
            [
             0,
             "#8e0152"
            ],
            [
             0.1,
             "#c51b7d"
            ],
            [
             0.2,
             "#de77ae"
            ],
            [
             0.3,
             "#f1b6da"
            ],
            [
             0.4,
             "#fde0ef"
            ],
            [
             0.5,
             "#f7f7f7"
            ],
            [
             0.6,
             "#e6f5d0"
            ],
            [
             0.7,
             "#b8e186"
            ],
            [
             0.8,
             "#7fbc41"
            ],
            [
             0.9,
             "#4d9221"
            ],
            [
             1,
             "#276419"
            ]
           ],
           "sequential": [
            [
             0,
             "#0d0887"
            ],
            [
             0.1111111111111111,
             "#46039f"
            ],
            [
             0.2222222222222222,
             "#7201a8"
            ],
            [
             0.3333333333333333,
             "#9c179e"
            ],
            [
             0.4444444444444444,
             "#bd3786"
            ],
            [
             0.5555555555555556,
             "#d8576b"
            ],
            [
             0.6666666666666666,
             "#ed7953"
            ],
            [
             0.7777777777777778,
             "#fb9f3a"
            ],
            [
             0.8888888888888888,
             "#fdca26"
            ],
            [
             1,
             "#f0f921"
            ]
           ],
           "sequentialminus": [
            [
             0,
             "#0d0887"
            ],
            [
             0.1111111111111111,
             "#46039f"
            ],
            [
             0.2222222222222222,
             "#7201a8"
            ],
            [
             0.3333333333333333,
             "#9c179e"
            ],
            [
             0.4444444444444444,
             "#bd3786"
            ],
            [
             0.5555555555555556,
             "#d8576b"
            ],
            [
             0.6666666666666666,
             "#ed7953"
            ],
            [
             0.7777777777777778,
             "#fb9f3a"
            ],
            [
             0.8888888888888888,
             "#fdca26"
            ],
            [
             1,
             "#f0f921"
            ]
           ]
          },
          "colorway": [
           "#636efa",
           "#EF553B",
           "#00cc96",
           "#ab63fa",
           "#FFA15A",
           "#19d3f3",
           "#FF6692",
           "#B6E880",
           "#FF97FF",
           "#FECB52"
          ],
          "font": {
           "color": "#2a3f5f"
          },
          "geo": {
           "bgcolor": "white",
           "lakecolor": "white",
           "landcolor": "#E5ECF6",
           "showlakes": true,
           "showland": true,
           "subunitcolor": "white"
          },
          "hoverlabel": {
           "align": "left"
          },
          "hovermode": "closest",
          "mapbox": {
           "style": "light"
          },
          "paper_bgcolor": "white",
          "plot_bgcolor": "#E5ECF6",
          "polar": {
           "angularaxis": {
            "gridcolor": "white",
            "linecolor": "white",
            "ticks": ""
           },
           "bgcolor": "#E5ECF6",
           "radialaxis": {
            "gridcolor": "white",
            "linecolor": "white",
            "ticks": ""
           }
          },
          "scene": {
           "xaxis": {
            "backgroundcolor": "#E5ECF6",
            "gridcolor": "white",
            "gridwidth": 2,
            "linecolor": "white",
            "showbackground": true,
            "ticks": "",
            "zerolinecolor": "white"
           },
           "yaxis": {
            "backgroundcolor": "#E5ECF6",
            "gridcolor": "white",
            "gridwidth": 2,
            "linecolor": "white",
            "showbackground": true,
            "ticks": "",
            "zerolinecolor": "white"
           },
           "zaxis": {
            "backgroundcolor": "#E5ECF6",
            "gridcolor": "white",
            "gridwidth": 2,
            "linecolor": "white",
            "showbackground": true,
            "ticks": "",
            "zerolinecolor": "white"
           }
          },
          "shapedefaults": {
           "line": {
            "color": "#2a3f5f"
           }
          },
          "ternary": {
           "aaxis": {
            "gridcolor": "white",
            "linecolor": "white",
            "ticks": ""
           },
           "baxis": {
            "gridcolor": "white",
            "linecolor": "white",
            "ticks": ""
           },
           "bgcolor": "#E5ECF6",
           "caxis": {
            "gridcolor": "white",
            "linecolor": "white",
            "ticks": ""
           }
          },
          "title": {
           "x": 0.05
          },
          "xaxis": {
           "automargin": true,
           "gridcolor": "white",
           "linecolor": "white",
           "ticks": "",
           "title": {
            "standoff": 15
           },
           "zerolinecolor": "white",
           "zerolinewidth": 2
          },
          "yaxis": {
           "automargin": true,
           "gridcolor": "white",
           "linecolor": "white",
           "ticks": "",
           "title": {
            "standoff": 15
           },
           "zerolinecolor": "white",
           "zerolinewidth": 2
          }
         }
        },
        "width": 800,
        "xaxis": {
         "anchor": "y",
         "domain": [
          0,
          1
         ],
         "title": {
          "text": "overall_score"
         }
        },
        "yaxis": {
         "anchor": "x",
         "domain": [
          0,
          1
         ],
         "title": {
          "text": "count"
         }
        }
       }
      }
     },
     "metadata": {},
     "output_type": "display_data"
    }
   ],
   "source": [
    "import matplotlib.pyplot as plt\n",
    "\n",
    "plt.hist(dff, bins = 30, alpha = 0.75, label = 'ženy')\n",
    "plt.hist(dfm, bins = 30, alpha = 0.75, label = 'muži')\n",
    "plt.legend(loc = 'upper right')\n",
    "plt.show()\n",
    "\n",
    "g = px.histogram(df, x = \"overall_score\", color = \"gender\", width = 800, barmode='overlay')\n",
    "g.show()"
   ]
  },
  {
   "cell_type": "code",
   "execution_count": null,
   "metadata": {},
   "outputs": [
    {
     "data": {
      "application/vnd.plotly.v1+json": {
       "config": {
        "plotlyServerURL": "https://plot.ly"
       },
       "data": [
        {
         "alignmentgroup": "True",
         "hovertemplate": "overall_score=%{y}<extra></extra>",
         "legendgroup": "",
         "marker": {
          "color": "#636efa"
         },
         "name": "",
         "notched": false,
         "offsetgroup": "",
         "orientation": "v",
         "showlegend": false,
         "type": "box",
         "x0": " ",
         "xaxis": "x",
         "y": [
          72.66666666666667,
          82.33333333333333,
          92.66666666666667,
          49.333333333333336,
          76.33333333333333,
          77.33333333333333,
          91.66666666666667,
          40.666666666666664,
          65,
          49.333333333333336,
          54.666666666666664,
          45,
          73,
          73.33333333333333,
          53.666666666666664,
          74,
          87.66666666666667,
          26,
          44.666666666666664,
          57.666666666666664,
          66,
          70,
          50.333333333333336,
          71.66666666666667,
          75,
          73,
          59.333333333333336,
          70.33333333333333,
          68.33333333333333,
          69,
          72.33333333333333,
          63,
          64.33333333333333,
          40,
          88.66666666666667,
          80.33333333333333,
          79.33333333333333,
          57.666666666666664,
          84.33333333333333,
          56.666666666666664,
          56.666666666666664,
          66.33333333333333,
          58.666666666666664,
          63.333333333333336,
          53.333333333333336,
          58.666666666666664,
          60.666666666666664,
          71,
          69,
          82.66666666666667,
          52,
          71.33333333333333,
          46.333333333333336,
          80.33333333333333,
          80.66666666666667,
          39,
          84.33333333333333,
          52,
          58.333333333333336,
          9,
          75,
          37.333333333333336,
          59.333333333333336,
          73.33333333333333,
          58.666666666666664,
          64,
          39.666666666666664,
          68.66666666666667,
          58.333333333333336,
          53.333333333333336,
          64.66666666666667,
          60.333333333333336,
          46.666666666666664,
          58,
          46.333333333333336,
          41,
          26,
          79.66666666666667,
          69,
          66,
          48.666666666666664,
          46.333333333333336,
          50.333333333333336,
          66.33333333333333,
          38.333333333333336,
          78.33333333333333,
          82.33333333333333,
          72,
          65,
          80.33333333333333,
          70.33333333333333,
          32.333333333333336,
          73.66666666666667,
          46,
          85.66666666666667,
          80.33333333333333,
          64.33333333333333,
          68.33333333333333,
          62.333333333333336,
          64.66666666666667,
          71,
          72,
          88.33333333333333,
          50.333333333333336,
          91.33333333333333,
          65.66666666666667,
          95.66666666666667,
          64.33333333333333,
          66,
          68.66666666666667,
          88,
          55.333333333333336,
          51.333333333333336,
          54.333333333333336,
          99.66666666666667,
          78.33333333333333,
          80.66666666666667,
          79.66666666666667,
          58.333333333333336,
          63,
          86.66666666666667,
          90.66666666666667,
          91.33333333333333,
          58.666666666666664,
          78.66666666666667,
          89.33333333333333,
          69,
          72,
          79.33333333333333,
          50.333333333333336,
          85,
          43.333333333333336,
          77,
          80,
          76,
          53.666666666666664,
          48.666666666666664,
          60.333333333333336,
          64,
          67,
          73,
          61.666666666666664,
          50.333333333333336,
          49,
          79.66666666666667,
          31.333333333333332,
          82.33333333333333,
          69,
          74.66666666666667,
          97.66666666666667,
          66,
          70.66666666666667,
          65,
          50,
          63.333333333333336,
          82.33333333333333,
          72.66666666666667,
          60,
          78,
          64,
          78,
          82.66666666666667,
          51.333333333333336,
          51.333333333333336,
          88,
          98.66666666666667,
          51.666666666666664,
          70.66666666666667,
          76.33333333333333,
          70.66666666666667,
          73,
          86.66666666666667,
          82,
          66.66666666666667,
          49.333333333333336,
          86.33333333333333,
          52.666666666666664,
          75,
          61.333333333333336,
          99,
          68.33333333333333,
          58.666666666666664,
          49,
          68,
          48.666666666666664,
          65.66666666666667,
          73.66666666666667,
          65.33333333333333,
          48.333333333333336,
          84,
          66.66666666666667,
          79.33333333333333,
          64,
          67,
          79.33333333333333,
          56,
          64.33333333333333,
          54,
          51,
          77.66666666666667,
          79,
          74.33333333333333,
          71.66666666666667,
          64.66666666666667,
          47.333333333333336,
          74.33333333333333,
          68.66666666666667,
          79,
          77,
          61.666666666666664,
          79.33333333333333,
          30,
          54.666666666666664,
          55.666666666666664,
          86.33333333333333,
          80.66666666666667,
          85.66666666666667,
          38.333333333333336,
          71,
          57.666666666666664,
          66,
          81.66666666666667,
          60.666666666666664,
          80.33333333333333,
          63.666666666666664,
          51.666666666666664,
          71.66666666666667,
          53.666666666666664,
          68,
          92.33333333333333,
          68.66666666666667,
          43.666666666666664,
          78.66666666666667,
          85.66666666666667,
          83,
          77.33333333333333,
          65.33333333333333,
          66,
          52.333333333333336,
          81.33333333333333,
          69,
          82,
          54.333333333333336,
          51,
          72.66666666666667,
          77.33333333333333,
          79.66666666666667,
          65.33333333333333,
          63.666666666666664,
          60.333333333333336,
          48.333333333333336,
          79,
          66.66666666666667,
          77.33333333333333,
          52.666666666666664,
          68.33333333333333,
          68.33333333333333,
          77.33333333333333,
          74.33333333333333,
          75.66666666666667,
          73.33333333333333,
          78.66666666666667,
          48.333333333333336,
          94,
          72.33333333333333,
          47.333333333333336,
          73,
          72.66666666666667,
          91.66666666666667,
          72.33333333333333,
          64.33333333333333,
          49.666666666666664,
          52.666666666666664,
          68.66666666666667,
          83,
          78,
          90,
          65.66666666666667,
          77,
          62,
          49,
          46.333333333333336,
          78.66666666666667,
          75.33333333333333,
          43,
          81.66666666666667,
          89,
          79.33333333333333,
          79.66666666666667,
          76.66666666666667,
          71.33333333333333,
          76.33333333333333,
          60,
          71,
          78.33333333333333,
          63,
          43.333333333333336,
          71,
          45.333333333333336,
          84,
          80,
          54,
          77.33333333333333,
          73.33333333333333,
          77.33333333333333,
          68.33333333333333,
          89,
          49,
          63.666666666666664,
          52.666666666666664,
          76.33333333333333,
          61,
          65.33333333333333,
          68,
          66,
          67.33333333333333,
          83.33333333333333,
          77.66666666666667,
          67.66666666666667,
          61.333333333333336,
          76.66666666666667,
          80,
          77.33333333333333,
          49.666666666666664,
          43.333333333333336,
          88.66666666666667,
          61.333333333333336,
          23.333333333333332,
          78,
          49,
          64,
          39.666666666666664,
          57,
          83,
          90.33333333333333,
          65,
          71.66666666666667,
          47.666666666666664,
          29.666666666666668,
          50,
          57,
          65.66666666666667,
          73,
          68.66666666666667,
          73,
          75.66666666666667,
          60,
          88.66666666666667,
          71.66666666666667,
          79,
          62,
          58.333333333333336,
          73.66666666666667,
          53.666666666666664,
          66.66666666666667,
          67.66666666666667,
          61.666666666666664,
          59,
          60.666666666666664,
          86.33333333333333,
          59.666666666666664,
          82.33333333333333,
          56,
          31,
          59,
          55.666666666666664,
          60,
          62.666666666666664,
          55.333333333333336,
          80.66666666666667,
          77.33333333333333,
          62.666666666666664,
          73.33333333333333,
          91.66666666666667,
          67.33333333333333,
          43.333333333333336,
          84,
          93.33333333333333,
          77,
          64,
          83,
          94,
          77,
          44,
          41.333333333333336,
          72.66666666666667,
          69,
          67.33333333333333,
          63.333333333333336,
          72.66666666666667,
          66.33333333333333,
          74,
          70,
          55.666666666666664,
          72,
          44.666666666666664,
          60,
          89.66666666666667,
          64.66666666666667,
          57.666666666666664,
          60,
          46.333333333333336,
          56.333333333333336,
          95.66666666666667,
          58.333333333333336,
          68,
          64.33333333333333,
          79.66666666666667,
          55,
          85.33333333333333,
          71.66666666666667,
          81.66666666666667,
          65.66666666666667,
          65.66666666666667,
          67.33333333333333,
          75.33333333333333,
          71,
          71.33333333333333,
          63,
          55.666666666666664,
          89.33333333333333,
          59.666666666666664,
          57.333333333333336,
          74.66666666666667,
          38,
          63.666666666666664,
          85,
          68.33333333333333,
          59,
          61.666666666666664,
          63,
          67.66666666666667,
          57.333333333333336,
          52,
          68.33333333333333,
          50.333333333333336,
          69,
          71.33333333333333,
          59,
          86.33333333333333,
          75.66666666666667,
          79.66666666666667,
          67,
          77.33333333333333,
          78,
          72.66666666666667,
          65,
          82.33333333333333,
          45,
          75.33333333333333,
          78,
          96.33333333333333,
          72,
          57.333333333333336,
          58.666666666666664,
          46.666666666666664,
          85.66666666666667,
          51.666666666666664,
          100,
          68.33333333333333,
          55.333333333333336,
          51,
          72.33333333333333,
          86,
          65,
          87.33333333333333,
          31.666666666666668,
          68,
          83.33333333333333,
          80.33333333333333,
          86,
          68.66666666666667,
          79.33333333333333,
          62.333333333333336,
          90.33333333333333,
          76.66666666666667,
          68,
          73.33333333333333,
          63,
          71.33333333333333,
          70.66666666666667,
          55.666666666666664,
          65.66666666666667,
          52.333333333333336,
          51.666666666666664,
          71.66666666666667,
          54.666666666666664,
          69.66666666666667,
          58,
          81,
          75.33333333333333,
          66,
          85.33333333333333,
          86.33333333333333,
          62,
          66,
          51.333333333333336,
          71,
          67.66666666666667,
          73,
          78.33333333333333,
          91,
          59.333333333333336,
          92,
          51,
          81.33333333333333,
          68,
          56,
          78,
          88.33333333333333,
          73.33333333333333,
          52.333333333333336,
          54.333333333333336,
          59,
          89.33333333333333,
          82.66666666666667,
          82.33333333333333,
          71,
          74,
          74.66666666666667,
          57.333333333333336,
          87,
          61.333333333333336,
          54.333333333333336,
          51.333333333333336,
          62.333333333333336,
          59,
          44,
          39,
          68.66666666666667,
          69.33333333333333,
          51.333333333333336,
          60.333333333333336,
          87,
          70,
          77.33333333333333,
          56.333333333333336,
          59.666666666666664,
          74,
          91.66666666666667,
          70.66666666666667,
          80.33333333333333,
          79,
          88.66666666666667,
          64.33333333333333,
          80.33333333333333,
          96.33333333333333,
          67.66666666666667,
          64.33333333333333,
          73.33333333333333,
          73.33333333333333,
          88.33333333333333,
          46,
          67.66666666666667,
          46,
          34.666666666666664,
          68.66666666666667,
          64.66666666666667,
          64.33333333333333,
          67,
          76,
          70.33333333333333,
          92.66666666666667,
          74.33333333333333,
          48.333333333333336,
          45.333333333333336,
          97.33333333333333,
          70,
          52.666666666666664,
          67.66666666666667,
          72,
          93,
          57,
          60,
          75.33333333333333,
          49.333333333333336,
          54.666666666666664,
          87,
          54,
          60.666666666666664,
          91.33333333333333,
          78.66666666666667,
          71.33333333333333,
          76,
          74.33333333333333,
          72.33333333333333,
          67,
          56.333333333333336,
          61,
          59.666666666666664,
          56.333333333333336,
          61,
          66.66666666666667,
          74.33333333333333,
          97,
          69,
          23,
          51.666666666666664,
          73,
          76,
          59,
          29.333333333333332,
          78,
          56,
          87.66666666666667,
          69.66666666666667,
          83.66666666666667,
          50.666666666666664,
          62.333333333333336,
          62,
          64,
          61,
          91.66666666666667,
          72,
          89.33333333333333,
          66.66666666666667,
          40,
          83,
          86.66666666666667,
          68.66666666666667,
          50,
          60.333333333333336,
          53.666666666666664,
          94,
          60.333333333333336,
          98.66666666666667,
          67.33333333333333,
          51.666666666666664,
          50.666666666666664,
          50,
          67,
          68,
          73.66666666666667,
          82.66666666666667,
          82.66666666666667,
          69.66666666666667,
          76,
          86.66666666666667,
          78.66666666666667,
          74.33333333333333,
          48,
          84,
          77.33333333333333,
          77.66666666666667,
          65,
          75.66666666666667,
          64.66666666666667,
          64.66666666666667,
          52.666666666666664,
          76.33333333333333,
          53.333333333333336,
          74.66666666666667,
          89.66666666666667,
          69.66666666666667,
          77,
          65.33333333333333,
          69.33333333333333,
          65.33333333333333,
          53.666666666666664,
          87.33333333333333,
          74.66666666666667,
          67.33333333333333,
          65,
          67,
          68.66666666666667,
          56.666666666666664,
          69,
          83,
          69.33333333333333,
          76.66666666666667,
          70,
          53,
          74.33333333333333,
          77.66666666666667,
          74.66666666666667,
          60,
          75.66666666666667,
          76,
          78,
          61.333333333333336,
          71,
          62.666666666666664,
          57,
          37.666666666666664,
          65.33333333333333,
          97.66666666666667,
          76,
          76,
          51.666666666666664,
          88.66666666666667,
          51.666666666666664,
          75.66666666666667,
          73.66666666666667,
          75.66666666666667,
          56,
          84.66666666666667,
          82.33333333333333,
          67,
          71.33333333333333,
          63.666666666666664,
          80.66666666666667,
          65.33333333333333,
          86,
          64.66666666666667,
          62,
          66.33333333333333,
          38.666666666666664,
          59,
          85,
          53.666666666666664,
          89,
          83.33333333333333,
          99,
          82,
          68,
          85.66666666666667,
          74.33333333333333,
          97,
          75.33333333333333,
          81.33333333333333,
          68,
          57.666666666666664,
          84,
          46.666666666666664,
          43.666666666666664,
          75.33333333333333,
          72.33333333333333,
          58.666666666666664,
          83,
          43,
          75,
          48,
          90,
          48.666666666666664,
          56,
          61,
          85,
          64,
          75,
          58.666666666666664,
          75,
          50,
          82.33333333333333,
          68,
          52.333333333333336,
          75,
          71.66666666666667,
          67,
          56.333333333333336,
          85.66666666666667,
          69.33333333333333,
          68.33333333333333,
          77,
          84,
          55.333333333333336,
          90.33333333333333,
          55,
          70,
          58.666666666666664,
          74.33333333333333,
          63,
          53.333333333333336,
          81.66666666666667,
          62.333333333333336,
          60.666666666666664,
          72.66666666666667,
          70,
          66,
          71.33333333333333,
          58.333333333333336,
          49.666666666666664,
          74,
          63.666666666666664,
          73,
          63.666666666666664,
          54,
          69.33333333333333,
          40.666666666666664,
          77.66666666666667,
          87,
          53,
          83.66666666666667,
          81,
          57.666666666666664,
          83.66666666666667,
          42.333333333333336,
          76,
          29.666666666666668,
          64.66666666666667,
          59.333333333333336,
          56.666666666666664,
          65.33333333333333,
          69.66666666666667,
          83.33333333333333,
          48.333333333333336,
          66,
          70,
          78.33333333333333,
          61,
          54.666666666666664,
          69.33333333333333,
          76.33333333333333,
          92,
          84.66666666666667,
          75.66666666666667,
          76.66666666666667,
          71,
          42,
          78,
          54.666666666666664,
          39.333333333333336,
          47,
          61.666666666666664,
          82.33333333333333,
          78.33333333333333,
          89,
          56,
          69,
          66.66666666666667,
          85.33333333333333,
          89,
          87,
          50.666666666666664,
          80,
          52.666666666666664,
          62.333333333333336,
          64.66666666666667,
          70,
          78.66666666666667,
          58.333333333333336,
          59.333333333333336,
          83,
          60.666666666666664,
          82.66666666666667,
          51,
          66,
          64.66666666666667,
          78.66666666666667,
          56,
          72,
          45.666666666666664,
          57.666666666666664,
          34.333333333333336,
          75.66666666666667,
          56.333333333333336,
          86.33333333333333,
          87,
          56,
          66.33333333333333,
          74.66666666666667,
          68.33333333333333,
          64,
          88.33333333333333,
          70,
          60.333333333333336,
          96.66666666666667,
          69.33333333333333,
          75,
          49,
          77.33333333333333,
          56,
          84.66666666666667,
          39.666666666666664,
          74,
          93.66666666666667,
          84,
          54.666666666666664,
          48,
          74.66666666666667,
          50.333333333333336,
          54.666666666666664,
          72.66666666666667,
          81.33333333333333,
          87.33333333333333,
          55.333333333333336,
          70,
          82.33333333333333,
          57.333333333333336,
          70.33333333333333,
          71.33333333333333,
          64.33333333333333,
          70.33333333333333,
          69.33333333333333,
          48.333333333333336,
          52,
          72.66666666666667,
          96,
          61.666666666666664,
          69.33333333333333,
          47.666666666666664,
          87.33333333333333,
          87.33333333333333,
          63.333333333333336,
          79,
          63.333333333333336,
          34.666666666666664,
          30.666666666666668,
          73.33333333333333,
          61.333333333333336,
          75,
          86,
          75,
          41,
          97.66666666666667,
          78.33333333333333,
          80.66666666666667,
          52,
          84.66666666666667,
          71.33333333333333,
          68,
          46.666666666666664,
          78.33333333333333,
          59.666666666666664,
          58.333333333333336,
          54,
          68,
          100,
          52.333333333333336,
          71.33333333333333,
          92.66666666666667,
          68.66666666666667,
          44.666666666666664,
          68,
          61.333333333333336,
          71,
          66,
          57.333333333333336,
          65.66666666666667,
          44.333333333333336,
          51.666666666666664,
          70.33333333333333,
          60.333333333333336,
          68.33333333333333,
          73,
          91.66666666666667,
          63.666666666666664,
          59,
          57.333333333333336,
          83.66666666666667,
          71.33333333333333,
          70,
          88.33333333333333,
          70.33333333333333,
          61.333333333333336,
          62.333333333333336,
          57.666666666666664,
          81.33333333333333,
          55.666666666666664,
          50.333333333333336,
          68.33333333333333,
          79.33333333333333,
          78.33333333333333,
          73.33333333333333,
          54.666666666666664,
          66.66666666666667,
          63.666666666666664,
          84,
          97.33333333333333,
          55.666666666666664,
          75.66666666666667,
          59.333333333333336,
          51.666666666666664,
          100,
          72,
          62.333333333333336,
          68,
          66,
          62,
          70.33333333333333,
          79.66666666666667,
          96.33333333333333,
          73,
          54.333333333333336,
          58.333333333333336,
          61.333333333333336,
          74.33333333333333,
          60.666666666666664,
          61.666666666666664,
          48,
          93.33333333333333,
          18.333333333333332,
          79,
          83.33333333333333,
          85.33333333333333,
          77,
          54,
          50,
          77.33333333333333,
          44.666666666666664,
          78.66666666666667,
          80.66666666666667,
          75,
          69,
          69.33333333333333,
          62.666666666666664,
          94,
          57.333333333333336,
          65,
          74.33333333333333,
          83
         ],
         "y0": " ",
         "yaxis": "y"
        }
       ],
       "layout": {
        "boxmode": "group",
        "legend": {
         "tracegroupgap": 0
        },
        "margin": {
         "t": 60
        },
        "template": {
         "data": {
          "bar": [
           {
            "error_x": {
             "color": "#2a3f5f"
            },
            "error_y": {
             "color": "#2a3f5f"
            },
            "marker": {
             "line": {
              "color": "#E5ECF6",
              "width": 0.5
             },
             "pattern": {
              "fillmode": "overlay",
              "size": 10,
              "solidity": 0.2
             }
            },
            "type": "bar"
           }
          ],
          "barpolar": [
           {
            "marker": {
             "line": {
              "color": "#E5ECF6",
              "width": 0.5
             },
             "pattern": {
              "fillmode": "overlay",
              "size": 10,
              "solidity": 0.2
             }
            },
            "type": "barpolar"
           }
          ],
          "carpet": [
           {
            "aaxis": {
             "endlinecolor": "#2a3f5f",
             "gridcolor": "white",
             "linecolor": "white",
             "minorgridcolor": "white",
             "startlinecolor": "#2a3f5f"
            },
            "baxis": {
             "endlinecolor": "#2a3f5f",
             "gridcolor": "white",
             "linecolor": "white",
             "minorgridcolor": "white",
             "startlinecolor": "#2a3f5f"
            },
            "type": "carpet"
           }
          ],
          "choropleth": [
           {
            "colorbar": {
             "outlinewidth": 0,
             "ticks": ""
            },
            "type": "choropleth"
           }
          ],
          "contour": [
           {
            "colorbar": {
             "outlinewidth": 0,
             "ticks": ""
            },
            "colorscale": [
             [
              0,
              "#0d0887"
             ],
             [
              0.1111111111111111,
              "#46039f"
             ],
             [
              0.2222222222222222,
              "#7201a8"
             ],
             [
              0.3333333333333333,
              "#9c179e"
             ],
             [
              0.4444444444444444,
              "#bd3786"
             ],
             [
              0.5555555555555556,
              "#d8576b"
             ],
             [
              0.6666666666666666,
              "#ed7953"
             ],
             [
              0.7777777777777778,
              "#fb9f3a"
             ],
             [
              0.8888888888888888,
              "#fdca26"
             ],
             [
              1,
              "#f0f921"
             ]
            ],
            "type": "contour"
           }
          ],
          "contourcarpet": [
           {
            "colorbar": {
             "outlinewidth": 0,
             "ticks": ""
            },
            "type": "contourcarpet"
           }
          ],
          "heatmap": [
           {
            "colorbar": {
             "outlinewidth": 0,
             "ticks": ""
            },
            "colorscale": [
             [
              0,
              "#0d0887"
             ],
             [
              0.1111111111111111,
              "#46039f"
             ],
             [
              0.2222222222222222,
              "#7201a8"
             ],
             [
              0.3333333333333333,
              "#9c179e"
             ],
             [
              0.4444444444444444,
              "#bd3786"
             ],
             [
              0.5555555555555556,
              "#d8576b"
             ],
             [
              0.6666666666666666,
              "#ed7953"
             ],
             [
              0.7777777777777778,
              "#fb9f3a"
             ],
             [
              0.8888888888888888,
              "#fdca26"
             ],
             [
              1,
              "#f0f921"
             ]
            ],
            "type": "heatmap"
           }
          ],
          "heatmapgl": [
           {
            "colorbar": {
             "outlinewidth": 0,
             "ticks": ""
            },
            "colorscale": [
             [
              0,
              "#0d0887"
             ],
             [
              0.1111111111111111,
              "#46039f"
             ],
             [
              0.2222222222222222,
              "#7201a8"
             ],
             [
              0.3333333333333333,
              "#9c179e"
             ],
             [
              0.4444444444444444,
              "#bd3786"
             ],
             [
              0.5555555555555556,
              "#d8576b"
             ],
             [
              0.6666666666666666,
              "#ed7953"
             ],
             [
              0.7777777777777778,
              "#fb9f3a"
             ],
             [
              0.8888888888888888,
              "#fdca26"
             ],
             [
              1,
              "#f0f921"
             ]
            ],
            "type": "heatmapgl"
           }
          ],
          "histogram": [
           {
            "marker": {
             "pattern": {
              "fillmode": "overlay",
              "size": 10,
              "solidity": 0.2
             }
            },
            "type": "histogram"
           }
          ],
          "histogram2d": [
           {
            "colorbar": {
             "outlinewidth": 0,
             "ticks": ""
            },
            "colorscale": [
             [
              0,
              "#0d0887"
             ],
             [
              0.1111111111111111,
              "#46039f"
             ],
             [
              0.2222222222222222,
              "#7201a8"
             ],
             [
              0.3333333333333333,
              "#9c179e"
             ],
             [
              0.4444444444444444,
              "#bd3786"
             ],
             [
              0.5555555555555556,
              "#d8576b"
             ],
             [
              0.6666666666666666,
              "#ed7953"
             ],
             [
              0.7777777777777778,
              "#fb9f3a"
             ],
             [
              0.8888888888888888,
              "#fdca26"
             ],
             [
              1,
              "#f0f921"
             ]
            ],
            "type": "histogram2d"
           }
          ],
          "histogram2dcontour": [
           {
            "colorbar": {
             "outlinewidth": 0,
             "ticks": ""
            },
            "colorscale": [
             [
              0,
              "#0d0887"
             ],
             [
              0.1111111111111111,
              "#46039f"
             ],
             [
              0.2222222222222222,
              "#7201a8"
             ],
             [
              0.3333333333333333,
              "#9c179e"
             ],
             [
              0.4444444444444444,
              "#bd3786"
             ],
             [
              0.5555555555555556,
              "#d8576b"
             ],
             [
              0.6666666666666666,
              "#ed7953"
             ],
             [
              0.7777777777777778,
              "#fb9f3a"
             ],
             [
              0.8888888888888888,
              "#fdca26"
             ],
             [
              1,
              "#f0f921"
             ]
            ],
            "type": "histogram2dcontour"
           }
          ],
          "mesh3d": [
           {
            "colorbar": {
             "outlinewidth": 0,
             "ticks": ""
            },
            "type": "mesh3d"
           }
          ],
          "parcoords": [
           {
            "line": {
             "colorbar": {
              "outlinewidth": 0,
              "ticks": ""
             }
            },
            "type": "parcoords"
           }
          ],
          "pie": [
           {
            "automargin": true,
            "type": "pie"
           }
          ],
          "scatter": [
           {
            "fillpattern": {
             "fillmode": "overlay",
             "size": 10,
             "solidity": 0.2
            },
            "type": "scatter"
           }
          ],
          "scatter3d": [
           {
            "line": {
             "colorbar": {
              "outlinewidth": 0,
              "ticks": ""
             }
            },
            "marker": {
             "colorbar": {
              "outlinewidth": 0,
              "ticks": ""
             }
            },
            "type": "scatter3d"
           }
          ],
          "scattercarpet": [
           {
            "marker": {
             "colorbar": {
              "outlinewidth": 0,
              "ticks": ""
             }
            },
            "type": "scattercarpet"
           }
          ],
          "scattergeo": [
           {
            "marker": {
             "colorbar": {
              "outlinewidth": 0,
              "ticks": ""
             }
            },
            "type": "scattergeo"
           }
          ],
          "scattergl": [
           {
            "marker": {
             "colorbar": {
              "outlinewidth": 0,
              "ticks": ""
             }
            },
            "type": "scattergl"
           }
          ],
          "scattermapbox": [
           {
            "marker": {
             "colorbar": {
              "outlinewidth": 0,
              "ticks": ""
             }
            },
            "type": "scattermapbox"
           }
          ],
          "scatterpolar": [
           {
            "marker": {
             "colorbar": {
              "outlinewidth": 0,
              "ticks": ""
             }
            },
            "type": "scatterpolar"
           }
          ],
          "scatterpolargl": [
           {
            "marker": {
             "colorbar": {
              "outlinewidth": 0,
              "ticks": ""
             }
            },
            "type": "scatterpolargl"
           }
          ],
          "scatterternary": [
           {
            "marker": {
             "colorbar": {
              "outlinewidth": 0,
              "ticks": ""
             }
            },
            "type": "scatterternary"
           }
          ],
          "surface": [
           {
            "colorbar": {
             "outlinewidth": 0,
             "ticks": ""
            },
            "colorscale": [
             [
              0,
              "#0d0887"
             ],
             [
              0.1111111111111111,
              "#46039f"
             ],
             [
              0.2222222222222222,
              "#7201a8"
             ],
             [
              0.3333333333333333,
              "#9c179e"
             ],
             [
              0.4444444444444444,
              "#bd3786"
             ],
             [
              0.5555555555555556,
              "#d8576b"
             ],
             [
              0.6666666666666666,
              "#ed7953"
             ],
             [
              0.7777777777777778,
              "#fb9f3a"
             ],
             [
              0.8888888888888888,
              "#fdca26"
             ],
             [
              1,
              "#f0f921"
             ]
            ],
            "type": "surface"
           }
          ],
          "table": [
           {
            "cells": {
             "fill": {
              "color": "#EBF0F8"
             },
             "line": {
              "color": "white"
             }
            },
            "header": {
             "fill": {
              "color": "#C8D4E3"
             },
             "line": {
              "color": "white"
             }
            },
            "type": "table"
           }
          ]
         },
         "layout": {
          "annotationdefaults": {
           "arrowcolor": "#2a3f5f",
           "arrowhead": 0,
           "arrowwidth": 1
          },
          "autotypenumbers": "strict",
          "coloraxis": {
           "colorbar": {
            "outlinewidth": 0,
            "ticks": ""
           }
          },
          "colorscale": {
           "diverging": [
            [
             0,
             "#8e0152"
            ],
            [
             0.1,
             "#c51b7d"
            ],
            [
             0.2,
             "#de77ae"
            ],
            [
             0.3,
             "#f1b6da"
            ],
            [
             0.4,
             "#fde0ef"
            ],
            [
             0.5,
             "#f7f7f7"
            ],
            [
             0.6,
             "#e6f5d0"
            ],
            [
             0.7,
             "#b8e186"
            ],
            [
             0.8,
             "#7fbc41"
            ],
            [
             0.9,
             "#4d9221"
            ],
            [
             1,
             "#276419"
            ]
           ],
           "sequential": [
            [
             0,
             "#0d0887"
            ],
            [
             0.1111111111111111,
             "#46039f"
            ],
            [
             0.2222222222222222,
             "#7201a8"
            ],
            [
             0.3333333333333333,
             "#9c179e"
            ],
            [
             0.4444444444444444,
             "#bd3786"
            ],
            [
             0.5555555555555556,
             "#d8576b"
            ],
            [
             0.6666666666666666,
             "#ed7953"
            ],
            [
             0.7777777777777778,
             "#fb9f3a"
            ],
            [
             0.8888888888888888,
             "#fdca26"
            ],
            [
             1,
             "#f0f921"
            ]
           ],
           "sequentialminus": [
            [
             0,
             "#0d0887"
            ],
            [
             0.1111111111111111,
             "#46039f"
            ],
            [
             0.2222222222222222,
             "#7201a8"
            ],
            [
             0.3333333333333333,
             "#9c179e"
            ],
            [
             0.4444444444444444,
             "#bd3786"
            ],
            [
             0.5555555555555556,
             "#d8576b"
            ],
            [
             0.6666666666666666,
             "#ed7953"
            ],
            [
             0.7777777777777778,
             "#fb9f3a"
            ],
            [
             0.8888888888888888,
             "#fdca26"
            ],
            [
             1,
             "#f0f921"
            ]
           ]
          },
          "colorway": [
           "#636efa",
           "#EF553B",
           "#00cc96",
           "#ab63fa",
           "#FFA15A",
           "#19d3f3",
           "#FF6692",
           "#B6E880",
           "#FF97FF",
           "#FECB52"
          ],
          "font": {
           "color": "#2a3f5f"
          },
          "geo": {
           "bgcolor": "white",
           "lakecolor": "white",
           "landcolor": "#E5ECF6",
           "showlakes": true,
           "showland": true,
           "subunitcolor": "white"
          },
          "hoverlabel": {
           "align": "left"
          },
          "hovermode": "closest",
          "mapbox": {
           "style": "light"
          },
          "paper_bgcolor": "white",
          "plot_bgcolor": "#E5ECF6",
          "polar": {
           "angularaxis": {
            "gridcolor": "white",
            "linecolor": "white",
            "ticks": ""
           },
           "bgcolor": "#E5ECF6",
           "radialaxis": {
            "gridcolor": "white",
            "linecolor": "white",
            "ticks": ""
           }
          },
          "scene": {
           "xaxis": {
            "backgroundcolor": "#E5ECF6",
            "gridcolor": "white",
            "gridwidth": 2,
            "linecolor": "white",
            "showbackground": true,
            "ticks": "",
            "zerolinecolor": "white"
           },
           "yaxis": {
            "backgroundcolor": "#E5ECF6",
            "gridcolor": "white",
            "gridwidth": 2,
            "linecolor": "white",
            "showbackground": true,
            "ticks": "",
            "zerolinecolor": "white"
           },
           "zaxis": {
            "backgroundcolor": "#E5ECF6",
            "gridcolor": "white",
            "gridwidth": 2,
            "linecolor": "white",
            "showbackground": true,
            "ticks": "",
            "zerolinecolor": "white"
           }
          },
          "shapedefaults": {
           "line": {
            "color": "#2a3f5f"
           }
          },
          "ternary": {
           "aaxis": {
            "gridcolor": "white",
            "linecolor": "white",
            "ticks": ""
           },
           "baxis": {
            "gridcolor": "white",
            "linecolor": "white",
            "ticks": ""
           },
           "bgcolor": "#E5ECF6",
           "caxis": {
            "gridcolor": "white",
            "linecolor": "white",
            "ticks": ""
           }
          },
          "title": {
           "x": 0.05
          },
          "xaxis": {
           "automargin": true,
           "gridcolor": "white",
           "linecolor": "white",
           "ticks": "",
           "title": {
            "standoff": 15
           },
           "zerolinecolor": "white",
           "zerolinewidth": 2
          },
          "yaxis": {
           "automargin": true,
           "gridcolor": "white",
           "linecolor": "white",
           "ticks": "",
           "title": {
            "standoff": 15
           },
           "zerolinecolor": "white",
           "zerolinewidth": 2
          }
         }
        },
        "width": 500,
        "xaxis": {
         "anchor": "y",
         "domain": [
          0,
          1
         ]
        },
        "yaxis": {
         "anchor": "x",
         "domain": [
          0,
          1
         ],
         "title": {
          "text": "overall_score"
         }
        }
       }
      }
     },
     "metadata": {},
     "output_type": "display_data"
    },
    {
     "data": {
      "image/png": "[encoded data removed]",
      "text/plain": [
       "<Figure size 640x480 with 1 Axes>"
      ]
     },
     "metadata": {},
     "output_type": "display_data"
    }
   ],
   "source": [
    "df.boxplot()\n",
    "df.rename(columns={'math score':'math_score', 'reading score':'reading_score', 'writing score':'writing_score' })\n",
    "g= px.box(df, y='overall_score', width=500)\n",
    "g.show()"
   ]
  },
  {
   "cell_type": "code",
   "execution_count": null,
   "metadata": {},
   "outputs": [
    {
     "name": "stdout",
     "output_type": "stream",
     "text": [
      "gender\n",
      "female    36037.000000\n",
      "male      31733.666667\n",
      "Name: overall score, dtype: float64\n"
     ]
    },
    {
     "data": {
      "text/plain": [
       "<AxesSubplot: xlabel='gender'>"
      ]
     },
     "execution_count": 95,
     "metadata": {},
     "output_type": "execute_result"
    },
    {
     "data": {
      "image/png": "[encoded data removed]",
      "text/plain": [
       "<Figure size 640x480 with 1 Axes>"
      ]
     },
     "metadata": {},
     "output_type": "display_data"
    }
   ],
   "source": [
    "print(df.groupby('gender').sum()['overall score'])\n",
    "df.groupby('gender').sum()['overall score'].plot(x = 'overall score', kind = 'bar')\n"
   ]
  }
 ],
 "metadata": {
  "kernelspec": {
   "display_name": "Python 3",
   "language": "python",
   "name": "python3"
  },
  "language_info": {
   "codemirror_mode": {
    "name": "ipython",
    "version": 3
   },
   "file_extension": ".py",
   "mimetype": "text/x-python",
   "name": "python",
   "nbconvert_exporter": "python",
   "pygments_lexer": "ipython3",
   "version": "3.10.4 (tags/v3.10.4:9d38120, Mar 23 2022, 23:13:41) [MSC v.1929 64 bit (AMD64)]"
  },
  "orig_nbformat": 4,
  "vscode": {
   "interpreter": {
    "hash": "ac7d63c81fa3af9841e18714dc5bca4e996301e345a55d3b2736ded50a265047"
   }
  }
 },
 "nbformat": 4,
 "nbformat_minor": 2
}
